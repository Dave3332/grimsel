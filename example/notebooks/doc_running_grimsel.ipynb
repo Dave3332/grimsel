{
 "cells": [
  {
   "cell_type": "raw",
   "metadata": {},
   "source": [
    "Running Grimsel\n",
    "=================\n",
    "\n",
    "Grimsel is instantiated most conventiently through the :class:`grimsel.core.model_loop.ModelLoop` class. This class takes care of data input/output (through the :class:`grimsel.core.io` class), model initialization (:class:`grimsel.core.model_base` class), as  well as parameter variation/scenario management. This tutorial provides a step-by-description how the model is initialized and run.\n",
    "\n",
    "Note that this assumes the availability of a self-consistent set of input data. These data consist in either a PostgreSQL schema of normalized tables or a set of CSV files with the same structure (see the `example files included with Grimsel on Github <https://github.com/mcsoini/grimsel/tree/master/input_data/>`_). The structure of the required input data is further explained in the :ref:`corresponding section<input_data_structure>`.\n"
   ]
  },
  {
   "cell_type": "raw",
   "metadata": {},
   "source": [
    "Basic imports\n",
    "-------------\n",
    "\n",
    "* The :mod:`grimsel.core.model_loop` module contains the ``ModelLoop`` class which puts it all together.\n",
    "* The :class:`grimsel.core.ModelBase` class is imported to access its :func:`grimsel.core.model_base.ModelBase.get_constraint_groups()` method (see below). This allows to define project-specific global configuration parameters (e.g. related to database connection and input file locations).\n",
    "* The grimsel_config module assumes the existence of a *config_local.py* file in *the current working directory*. \n",
    "* The logger is defined in the Grimsel ``__init__`` file. The module level ``logger`` instance can be used to set the global logging level. Please refer to the documentation of the :class:`logging` module for further details."
   ]
  },
  {
   "cell_type": "code",
   "execution_count": 5,
   "metadata": {},
   "outputs": [],
   "source": [
    "import numpy as np\n",
    "import grimsel.core.model_loop as model_loop\n",
    "from grimsel.core.model_base import ModelBase as MB\n",
    "import grimsel_config as config\n",
    "from grimsel import logger\n",
    "logger.setLevel(0)"
   ]
  },
  {
   "cell_type": "raw",
   "metadata": {},
   "source": [
    "Defining model parameters\n",
    "-------------------------\n",
    "\n",
    "The model parameters are collected in a dictionary ``mkwargs``. They are passed to the :class:`ModelLoop` initializer as dictionary and serve as keyword arguments to initialize the :class:`grimsel.core.model_base.ModelBase` class.\n"
   ]
  },
  {
   "cell_type": "code",
   "execution_count": 6,
   "metadata": {},
   "outputs": [],
   "source": [
    "mkwargs = {'slct_encar': ['EL'],\n",
    "           'slct_node': ['CH0', 'DE0', 'SFH_AA', 'SFH_AB'],\n",
    "           'nhours': {'CH0': (1, 1), 'SFH_AA': (0.25, 0.25), 'SFH_AB': (0.25, 0.5)},\n",
    "           'slct_pp_type': [],\n",
    "           'skip_runs': False,\n",
    "           'tm_filt': [('mt_id', [1, 4, 7, 10]), ('day', [1])],\n",
    "           'constraint_groups': MB.get_constraint_groups(excl=['chp'])\n",
    "           }"
   ]
  },
  {
   "cell_type": "raw",
   "metadata": {},
   "source": [
    "\n",
    "* ``slct_encar``: Which energy carriers to include. Any subset of the entries in the *def_encar* input table's *ca*     column. All input tables are filtered accordingly.\n",
    "* ``slct_node``: Which nodes to include. Any subset of the entries in the *def_node* input table's *nd* column. All input tables are filtered accordingly. In the example, two country-nodes ``[CH0, DE0]`` and two household-nodes ``[SFH_AA, SFH_AB]`` are included.\n",
    "* ``nhours``: Original and target time resolution of all profiles in the selected nodes. The value pairs correspond to the ``freq`` and ``nhours`` parameters of the :class:`grimsel.auxiliary.timemap.TimeMap` class. In the example, the country nodes have 1 hour time resolution. For ``CH0``, this remains explicitly unchanged: ``(1, 1)``. ``SFH_AA`` and ``SFH_AB`` have 15 minute inpute data time resolution which is maintained for ``SFH_AA`` ``(0.25, 0.25)`` and averaged to 30 minutes for ``SFH_AB``: ``(0.25, 0.5)``. In principle, any combination of time resolutions is possible. However, :class:`grimsel.auxiliary.timemap.TimeMap` throws an error if the target time resolution ``freq`` is not a multiple of the input data time resolution ``nhours``.\n",
    "* ``slct_pp_type``: Which power plant types to include. Any subset of the entries in the *def_pp_type* input table's *pt*     column. All input tables are filtered accordingly. An empty list implies no filtering, i.e. all power plant types included in the input data are used.\n",
    "* ``skip_runs``: If set to ``True``, no model runs are performed and only the constructed model parameters are written to the output data. Occasionally useful.\n",
    "* ``tm_filt``: The parameter of the :class:`grimsel.auxiliary.timemap.TimeMap` class. In the example we limit the temporal scope of the model to the first day of four selected months. All input profiles are filtered accordingly.\n",
    "\n",
    ".. warning::\n",
    "   The time filtering makes use of the :class:`grimsel.auxiliary.timemap` class which defaults to the 2015 year structure. This might be import to keep in mind in case certain days of the week are selected.\n",
    "\n",
    "* ``constraint_groups``: The constraint groups are the methods of the :class:`grimsel.core.constraints.Constraints` class whose name follows the pattern ``add_*_rules``. Through this model parameter it is possible to select a subset of the active constraints (e.g. to investigate infeasibilities). For convenience, the :func:`grimsel.core.model_base.ModelBase.get_constraint_groups` class method allows to select all constraint groups except for those specified by its ``excl`` parameter. The example below demonstrates the case where all constraint groups except for the ``chp`` constraints are selected. If the model is constructed with this selection, the method :func:`grimsel.core.constraints.add_hydro_rules` will not be called."
   ]
  },
  {
   "cell_type": "code",
   "execution_count": 7,
   "metadata": {
    "scrolled": true
   },
   "outputs": [
    {
     "data": {
      "text/plain": [
       "['capacity_calculation',\n",
       " 'capacity_constraint',\n",
       " 'charging_level',\n",
       " 'chp',\n",
       " 'energy_aggregation',\n",
       " 'energy_constraint',\n",
       " 'monthly_total',\n",
       " 'objective',\n",
       " 'ramp_rate',\n",
       " 'supply',\n",
       " 'transmission_bounds',\n",
       " 'variables',\n",
       " 'yearly_cost']"
      ]
     },
     "execution_count": 7,
     "metadata": {},
     "output_type": "execute_result"
    }
   ],
   "source": [
    "MB.get_constraint_groups(excl=['hydro'])  # demonstration of the ``get_constraint_groups`` method"
   ]
  },
  {
   "cell_type": "raw",
   "metadata": {},
   "source": [
    "Defining input/output parameters\n",
    "---------------------------------\n",
    "\n",
    "The input/output parameters are collected in a dictionary ``iokwargs``. They are passed to the :class:`ModelLoop` initializer as dictionary and serve as keyword arguments to the :class:`grimsel.core.io.IO` ``__init__`` class.\n"
   ]
  },
  {
   "cell_type": "code",
   "execution_count": 4,
   "metadata": {},
   "outputs": [],
   "source": [
    "iokwargs = {# input\n",
    "            'sc_inp': None,\n",
    "            'data_path': config.PATH_CSV,\n",
    "            # output\n",
    "            'output_target': 'hdf5',\n",
    "            'cl_out': 'grimsel_out',\n",
    "            'no_output': False,\n",
    "            'resume_loop': False,\n",
    "            'replace_runs_if_exist': False,\n",
    "            # general\n",
    "            'dev_mode': True,\n",
    "            'sql_connector': None,\n",
    "            'autocomplete_curtailment': False,\n",
    "           }"
   ]
  },
  {
   "cell_type": "raw",
   "metadata": {},
   "source": [
    "**Data input parameters**\n",
    "\n",
    "* ``sc_inp``: Name of the input PostgreSQL schema if data is to be read from the database.\n",
    "* ``data_path``: Name of the path holding the input data CSV files if applicable.\n",
    "\n",
    "**Data output parameters**\n",
    "\n",
    "* ``output_target``: One of ``'hdf5'`` (write to hdf5 file) or ``'psql'`` (write to PostgreSQL database).\n",
    "* ``cl_out``: Name of the output table collection. This could either be a PostgreSQL schema or an hdf5 file.\n",
    "* ``no_output``: If ``True``, no output is written to selected target, but only the model runs are performed.\n",
    "* ``resume_loop``: Resume the model runs at a certain ``run_id``. If this is ``False`` (default), the output table collection (file or database schema) is re-initialized.\n",
    "* ``replace_runs_if_exist``: By default, if ``resume_loop`` is an integer, all output data with ``run_id >= resume_loop`` is deleted prior to the first model run. If ``replace_runs_if_exist`` is ``True``, individual model runs are replaced instead.\n",
    "\n",
    "**General parameters**\n",
    "\n",
    "* ``dev_mode``: Re-initialize the output data target without the default warning.\n",
    "* ``sql_connector``: Instance of the :class:`grimsel.auxiliary.sqlutils.aux_sql_func.SqlConnector` class. This is only required if either the input reading or model output writing makes use of a database connection."
   ]
  },
  {
   "cell_type": "raw",
   "metadata": {},
   "source": [
    "Defining model loop parameters\n",
    "---------------------------------\n",
    "\n",
    "Apart from the ``iokwkargs`` and ``mkwargs`` dictionaries, the :class:`ModelLoop` class' only parameter is the nsteps list:"
   ]
  },
  {
   "cell_type": "code",
   "execution_count": 5,
   "metadata": {
    "scrolled": true
   },
   "outputs": [],
   "source": [
    "nsteps = [('swco', 3, np.linspace),  # CO2 emission price\n",
    "          ('swfy', 3, np.arange),    # Future years\n",
    "         ]"
   ]
  },
  {
   "cell_type": "raw",
   "metadata": {},
   "source": [
    "It defines the steps of parameter variations/scenarios and hence the model runs. In this example, 3 steps of both a ``swco`` axis and a ``swfy`` axis are defined, e.g. to vary the |CO2| emission price and the future years separately. The third item of each tuple (numpy functions) specify whether the corresponding axis values are defined as \n",
    "\n",
    "* equally spaced steps between 0 and 1 (``np.linspace``); this might be convenient e.g. if the emission price is to varied between 0 and an upper maximum, e.g. 100. In this case the resulting swco loop value can just be used as a multiplicator.\n",
    "* *n* steps (``np.arange``), e.g. to select discrete values (years, scenarios, etc) from a dictionary ``{0: 'yr2015', 1: 'yr2020', 3: 'yr2030'}``"
   ]
  },
  {
   "cell_type": "raw",
   "metadata": {},
   "source": [
    "Then, the ``ModelLoop`` instance is constructed as follows:"
   ]
  },
  {
   "cell_type": "code",
   "execution_count": 6,
   "metadata": {
    "scrolled": false
   },
   "outputs": [],
   "source": [
    "ml = model_loop.ModelLoop(nsteps=nsteps, mkwargs=mkwargs, iokwargs=iokwargs)"
   ]
  },
  {
   "cell_type": "raw",
   "metadata": {},
   "source": [
    "Calling the :func:`grimsel.core.model_loop.ModelLoop.init_run_table` method generates a table with all combinations of the steps specified through the ``nsteps`` parameter above:"
   ]
  },
  {
   "cell_type": "code",
   "execution_count": 7,
   "metadata": {
    "scrolled": true
   },
   "outputs": [
    {
     "data": {
      "text/html": [
       "<div>\n",
       "<style scoped>\n",
       "    .dataframe tbody tr th:only-of-type {\n",
       "        vertical-align: middle;\n",
       "    }\n",
       "\n",
       "    .dataframe tbody tr th {\n",
       "        vertical-align: top;\n",
       "    }\n",
       "\n",
       "    .dataframe thead th {\n",
       "        text-align: right;\n",
       "    }\n",
       "</style>\n",
       "<table border=\"1\" class=\"dataframe\">\n",
       "  <thead>\n",
       "    <tr style=\"text-align: right;\">\n",
       "      <th></th>\n",
       "      <th>run_id</th>\n",
       "      <th>swco_id</th>\n",
       "      <th>swfy_id</th>\n",
       "      <th>swco</th>\n",
       "      <th>swfy</th>\n",
       "      <th>swco_vl</th>\n",
       "      <th>swfy_vl</th>\n",
       "    </tr>\n",
       "  </thead>\n",
       "  <tbody>\n",
       "    <tr>\n",
       "      <th>0</th>\n",
       "      <td>0</td>\n",
       "      <td>0.0</td>\n",
       "      <td>0.0</td>\n",
       "      <td>0.0</td>\n",
       "      <td>0.0</td>\n",
       "      <td>NaN</td>\n",
       "      <td>NaN</td>\n",
       "    </tr>\n",
       "    <tr>\n",
       "      <th>1</th>\n",
       "      <td>1</td>\n",
       "      <td>1.0</td>\n",
       "      <td>0.0</td>\n",
       "      <td>0.5</td>\n",
       "      <td>0.0</td>\n",
       "      <td>NaN</td>\n",
       "      <td>NaN</td>\n",
       "    </tr>\n",
       "    <tr>\n",
       "      <th>2</th>\n",
       "      <td>2</td>\n",
       "      <td>2.0</td>\n",
       "      <td>0.0</td>\n",
       "      <td>1.0</td>\n",
       "      <td>0.0</td>\n",
       "      <td>NaN</td>\n",
       "      <td>NaN</td>\n",
       "    </tr>\n",
       "    <tr>\n",
       "      <th>3</th>\n",
       "      <td>3</td>\n",
       "      <td>0.0</td>\n",
       "      <td>1.0</td>\n",
       "      <td>0.0</td>\n",
       "      <td>1.0</td>\n",
       "      <td>NaN</td>\n",
       "      <td>NaN</td>\n",
       "    </tr>\n",
       "    <tr>\n",
       "      <th>4</th>\n",
       "      <td>4</td>\n",
       "      <td>1.0</td>\n",
       "      <td>1.0</td>\n",
       "      <td>0.5</td>\n",
       "      <td>1.0</td>\n",
       "      <td>NaN</td>\n",
       "      <td>NaN</td>\n",
       "    </tr>\n",
       "    <tr>\n",
       "      <th>5</th>\n",
       "      <td>5</td>\n",
       "      <td>2.0</td>\n",
       "      <td>1.0</td>\n",
       "      <td>1.0</td>\n",
       "      <td>1.0</td>\n",
       "      <td>NaN</td>\n",
       "      <td>NaN</td>\n",
       "    </tr>\n",
       "    <tr>\n",
       "      <th>6</th>\n",
       "      <td>6</td>\n",
       "      <td>0.0</td>\n",
       "      <td>2.0</td>\n",
       "      <td>0.0</td>\n",
       "      <td>2.0</td>\n",
       "      <td>NaN</td>\n",
       "      <td>NaN</td>\n",
       "    </tr>\n",
       "    <tr>\n",
       "      <th>7</th>\n",
       "      <td>7</td>\n",
       "      <td>1.0</td>\n",
       "      <td>2.0</td>\n",
       "      <td>0.5</td>\n",
       "      <td>2.0</td>\n",
       "      <td>NaN</td>\n",
       "      <td>NaN</td>\n",
       "    </tr>\n",
       "    <tr>\n",
       "      <th>8</th>\n",
       "      <td>8</td>\n",
       "      <td>2.0</td>\n",
       "      <td>2.0</td>\n",
       "      <td>1.0</td>\n",
       "      <td>2.0</td>\n",
       "      <td>NaN</td>\n",
       "      <td>NaN</td>\n",
       "    </tr>\n",
       "  </tbody>\n",
       "</table>\n",
       "</div>"
      ],
      "text/plain": [
       "   run_id  swco_id  swfy_id  swco  swfy  swco_vl  swfy_vl\n",
       "0       0      0.0      0.0   0.0   0.0      NaN      NaN\n",
       "1       1      1.0      0.0   0.5   0.0      NaN      NaN\n",
       "2       2      2.0      0.0   1.0   0.0      NaN      NaN\n",
       "3       3      0.0      1.0   0.0   1.0      NaN      NaN\n",
       "4       4      1.0      1.0   0.5   1.0      NaN      NaN\n",
       "5       5      2.0      1.0   1.0   1.0      NaN      NaN\n",
       "6       6      0.0      2.0   0.0   2.0      NaN      NaN\n",
       "7       7      1.0      2.0   0.5   2.0      NaN      NaN\n",
       "8       8      2.0      2.0   1.0   2.0      NaN      NaN"
      ]
     },
     "execution_count": 7,
     "metadata": {},
     "output_type": "execute_result"
    }
   ],
   "source": [
    "ml.init_run_table()\n",
    "ml.df_def_loop"
   ]
  },
  {
   "cell_type": "raw",
   "metadata": {},
   "source": [
    "The *run_id* column is the unique integer index, the *\\*_id* columns are unique step ids for each axis, the columns bearing the axes names without suffix are the results of the step type specified in the ``nsteps`` parameter (``np.arange`` or ``np.linspace``). Finally, the *\\*_vl* columns are actual names of the model run variations and are set later.\n",
    "\n",
    "For detailed parameter studies this table gets quite large. It is typically filtered to limited the model runs:"
   ]
  },
  {
   "cell_type": "code",
   "execution_count": 8,
   "metadata": {},
   "outputs": [
    {
     "data": {
      "text/html": [
       "<div>\n",
       "<style scoped>\n",
       "    .dataframe tbody tr th:only-of-type {\n",
       "        vertical-align: middle;\n",
       "    }\n",
       "\n",
       "    .dataframe tbody tr th {\n",
       "        vertical-align: top;\n",
       "    }\n",
       "\n",
       "    .dataframe thead th {\n",
       "        text-align: right;\n",
       "    }\n",
       "</style>\n",
       "<table border=\"1\" class=\"dataframe\">\n",
       "  <thead>\n",
       "    <tr style=\"text-align: right;\">\n",
       "      <th></th>\n",
       "      <th>run_id</th>\n",
       "      <th>swco_id</th>\n",
       "      <th>swfy_id</th>\n",
       "      <th>swco</th>\n",
       "      <th>swfy</th>\n",
       "      <th>swco_vl</th>\n",
       "      <th>swfy_vl</th>\n",
       "    </tr>\n",
       "  </thead>\n",
       "  <tbody>\n",
       "    <tr>\n",
       "      <th>0</th>\n",
       "      <td>0</td>\n",
       "      <td>0.0</td>\n",
       "      <td>0.0</td>\n",
       "      <td>0.0</td>\n",
       "      <td>0.0</td>\n",
       "      <td>NaN</td>\n",
       "      <td>NaN</td>\n",
       "    </tr>\n",
       "    <tr>\n",
       "      <th>1</th>\n",
       "      <td>1</td>\n",
       "      <td>1.0</td>\n",
       "      <td>0.0</td>\n",
       "      <td>0.5</td>\n",
       "      <td>0.0</td>\n",
       "      <td>NaN</td>\n",
       "      <td>NaN</td>\n",
       "    </tr>\n",
       "    <tr>\n",
       "      <th>2</th>\n",
       "      <td>2</td>\n",
       "      <td>0.0</td>\n",
       "      <td>1.0</td>\n",
       "      <td>0.0</td>\n",
       "      <td>1.0</td>\n",
       "      <td>NaN</td>\n",
       "      <td>NaN</td>\n",
       "    </tr>\n",
       "    <tr>\n",
       "      <th>3</th>\n",
       "      <td>3</td>\n",
       "      <td>1.0</td>\n",
       "      <td>1.0</td>\n",
       "      <td>0.5</td>\n",
       "      <td>1.0</td>\n",
       "      <td>NaN</td>\n",
       "      <td>NaN</td>\n",
       "    </tr>\n",
       "    <tr>\n",
       "      <th>4</th>\n",
       "      <td>4</td>\n",
       "      <td>2.0</td>\n",
       "      <td>1.0</td>\n",
       "      <td>1.0</td>\n",
       "      <td>1.0</td>\n",
       "      <td>NaN</td>\n",
       "      <td>NaN</td>\n",
       "    </tr>\n",
       "    <tr>\n",
       "      <th>5</th>\n",
       "      <td>5</td>\n",
       "      <td>0.0</td>\n",
       "      <td>2.0</td>\n",
       "      <td>0.0</td>\n",
       "      <td>2.0</td>\n",
       "      <td>NaN</td>\n",
       "      <td>NaN</td>\n",
       "    </tr>\n",
       "    <tr>\n",
       "      <th>6</th>\n",
       "      <td>6</td>\n",
       "      <td>1.0</td>\n",
       "      <td>2.0</td>\n",
       "      <td>0.5</td>\n",
       "      <td>2.0</td>\n",
       "      <td>NaN</td>\n",
       "      <td>NaN</td>\n",
       "    </tr>\n",
       "  </tbody>\n",
       "</table>\n",
       "</div>"
      ],
      "text/plain": [
       "   run_id  swco_id  swfy_id  swco  swfy  swco_vl  swfy_vl\n",
       "0       0      0.0      0.0   0.0   0.0      NaN      NaN\n",
       "1       1      1.0      0.0   0.5   0.0      NaN      NaN\n",
       "2       2      0.0      1.0   0.0   1.0      NaN      NaN\n",
       "3       3      1.0      1.0   0.5   1.0      NaN      NaN\n",
       "4       4      2.0      1.0   1.0   1.0      NaN      NaN\n",
       "5       5      0.0      2.0   0.0   2.0      NaN      NaN\n",
       "6       6      1.0      2.0   0.5   2.0      NaN      NaN"
      ]
     },
     "execution_count": 8,
     "metadata": {},
     "output_type": "execute_result"
    }
   ],
   "source": [
    "ml.df_def_loop = ml.df_def_loop.query('swco_id != 2 or swfy_id == 1')\n",
    "ml.df_def_loop"
   ]
  },
  {
   "cell_type": "raw",
   "metadata": {},
   "source": [
    "Note that the *run_id* column is automatically reset for any change to this table."
   ]
  },
  {
   "cell_type": "raw",
   "metadata": {},
   "source": [
    "Model setup\n",
    "---------------------------------\n",
    "\n",
    "A sequence of method calls is used to read the input data and to set up the model instance:"
   ]
  },
  {
   "cell_type": "code",
   "execution_count": 9,
   "metadata": {},
   "outputs": [],
   "source": [
    "ml.io.read_model_data()"
   ]
  },
  {
   "cell_type": "raw",
   "metadata": {},
   "source": [
    "The :class:`grimsel.core.io.IO.read_model_data` method reads the model data from the selected data source and adds all tables to the :class:`grimsel.core.model_base.ModelBase` instance."
   ]
  },
  {
   "cell_type": "code",
   "execution_count": 10,
   "metadata": {},
   "outputs": [],
   "source": [
    "ml.m.init_maps()"
   ]
  },
  {
   "cell_type": "raw",
   "metadata": {},
   "source": [
    "The method :func:`grimsel.core.model_base.ModelBase.init_maps` uses the input table to generate a :class:`grimsel.auxiliary.maps.Maps` object. This is based on the ``def_*`` tables and serves primarily to convert ids to names and vice versa (of nodes, power plants, profiles, etc)."
   ]
  },
  {
   "cell_type": "code",
   "execution_count": 11,
   "metadata": {},
   "outputs": [],
   "source": [
    "ml.m.map_to_time_res()"
   ]
  },
  {
   "cell_type": "raw",
   "metadata": {},
   "source": [
    "The method :func:`grimsel.core.model_base.ModelBase.map_to_time_res` takes care of all model aspects related to the selected time resolution:\n",
    "\n",
    "* It maps all input profiles to the desired model time resolution as specified by the ``nhours`` parameter (see above). This results in a set of attributes like ``ml.m.df_profdmnd_soy`` (equivalent for the other profile tables) which are filtered according to the ``tm_filt`` parameter and have potentially reduced time resolution.\n",
    "* It generates the required tables to define the transmission between nodes, especially concerning the mapping of time slots for inter-nodal energy transmission between nodes with different time resolution."
   ]
  },
  {
   "cell_type": "code",
   "execution_count": 15,
   "metadata": {},
   "outputs": [],
   "source": [
    "ml.io.write_runtime_tables()"
   ]
  },
  {
   "cell_type": "raw",
   "metadata": {},
   "source": [
    "The method :func:`grimsel.core.io.write_runtime_tables` writes input and runtime tables to the output data container. Runtime tables are time maps between model time slots and hours of the year."
   ]
  },
  {
   "cell_type": "code",
   "execution_count": 16,
   "metadata": {},
   "outputs": [],
   "source": [
    "ml.m.get_setlst()\n",
    "ml.m.define_sets()"
   ]
  },
  {
   "cell_type": "markdown",
   "metadata": {},
   "source": [
    "Sets up the pyomo set objects as attributes of the :class:`grimsel.core.model_base.ModelBase` class.\n",
    "\n",
    "The method :func:`grimsel.core.sets.define_sets` generates all necessary pyomo set objects.\n",
    "\n",
    "The method :func:`grimsel.core.sets.get_setlst` generates a dictionary ``ml.m.setlst`` with the most basic sets, especially those defined by the *set_def_\\** columns of the ``ml.m.df_def_plant`` input table:"
   ]
  },
  {
   "cell_type": "code",
   "execution_count": 17,
   "metadata": {},
   "outputs": [
    {
     "name": "stdout",
     "output_type": "stream",
     "text": [
      "[57, 60, 102, 103]\n"
     ]
    },
    {
     "data": {
      "text/plain": [
       "{57: 'DE_HYD_STO', 60: 'CH_HYD_STO', 102: 'SFH_AA_STO', 103: 'SFH_AB_STO'}"
      ]
     },
     "execution_count": 17,
     "metadata": {},
     "output_type": "execute_result"
    }
   ],
   "source": [
    "print(ml.m.setlst['st'])  # for example all storage plants\n",
    "{pp: ml.m.mps.dict_pp[pp] for pp in ml.m.setlst['st']}  "
   ]
  },
  {
   "cell_type": "code",
   "execution_count": 18,
   "metadata": {},
   "outputs": [],
   "source": [
    "ml.m.add_parameters()\n",
    "ml.m.define_variables()\n",
    "ml.m.add_all_constraints()"
   ]
  },
  {
   "cell_type": "raw",
   "metadata": {},
   "source": [
    "Adds all parameter, variable, and constraint attributes to the model (see :class:`grimsel.core.parameters`, :class:`grimsel.core.variables`, and :class:`grimsel.core.constraints`, )."
   ]
  },
  {
   "cell_type": "code",
   "execution_count": 19,
   "metadata": {},
   "outputs": [],
   "source": [
    "ml.m.init_solver()"
   ]
  },
  {
   "cell_type": "raw",
   "metadata": {},
   "source": [
    "The method :func:`grimsel.core.model_base.ModelBase.init_solver` initializes a pyomo SolverFactory instance. Note that assumption on the CPLEX executable are hardcoded here in dependence on the operating system. If this doesn't work, manual manipulation is required."
   ]
  },
  {
   "cell_type": "code",
   "execution_count": 20,
   "metadata": {
    "scrolled": true
   },
   "outputs": [],
   "source": [
    "ml.io.init_output_tables()"
   ]
  },
  {
   "cell_type": "raw",
   "metadata": {},
   "source": [
    ":func:`grimsel.core.io.IO.init_output_tables` generates the output table handler objects :class:`grimsel.core.io.CompIO` and initializes the SQL tables (if applicable)."
   ]
  },
  {
   "cell_type": "raw",
   "metadata": {},
   "source": [
    "Generating a model loop modifier \n",
    "---------------------------------\n",
    "\n"
   ]
  },
  {
   "cell_type": "code",
   "execution_count": null,
   "metadata": {},
   "outputs": [],
   "source": [
    "mlm = model_loop_modifier.ModelLoopModifier(ml)\n"
   ]
  },
  {
   "cell_type": "raw",
   "metadata": {},
   "source": [
    "Loop over model runs \n",
    "---------------------\n",
    "\n"
   ]
  },
  {
   "cell_type": "raw",
   "metadata": {},
   "source": [
    "Basic model data access\n",
    "-------------------------\n",
    "\n"
   ]
  }
 ],
 "metadata": {
  "kernelspec": {
   "display_name": "Python 3",
   "language": "python",
   "name": "python3"
  },
  "language_info": {
   "codemirror_mode": {
    "name": "ipython",
    "version": 3
   },
   "file_extension": ".py",
   "mimetype": "text/x-python",
   "name": "python",
   "nbconvert_exporter": "python",
   "pygments_lexer": "ipython3",
   "version": "3.6.8"
  }
 },
 "nbformat": 4,
 "nbformat_minor": 2
}
