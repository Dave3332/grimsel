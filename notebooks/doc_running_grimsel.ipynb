version https://git-lfs.github.com/spec/v1
oid sha256:95f545c9ef8e71bf976286f32922a13089557ab0e3e0aa1df8e764c0efef462e
size 27043
