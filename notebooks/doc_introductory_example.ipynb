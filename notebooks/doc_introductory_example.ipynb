{
 "cells": [
  {
   "cell_type": "code",
   "execution_count": 34,
   "metadata": {},
   "outputs": [],
   "source": [
    "import sys\n",
    "sys.path.append('/mnt/data/Dropbox/GRIMSEL_SOURCE/grimsel')\n",
    "\n"
   ]
  },
  {
   "cell_type": "raw",
   "metadata": {},
   "source": [
    ".. |CO2| replace:: CO\\ :sub:`2`\\ \\\n",
    "\n",
    "======================\n",
    "Introductory example-\n",
    "======================\n",
    "\n",
    "This example provides a minimal example of the modeling process with Grimsel, including the definition of the input tables."
   ]
  },
  {
   "cell_type": "code",
   "execution_count": 35,
   "metadata": {
    "scrolled": true
   },
   "outputs": [],
   "source": [
    "from grimsel.core.io import IO\n",
    "import numpy as np\n",
    "import pandas as pd\n",
    "import grimsel.core.model_loop as model_loop\n",
    "from grimsel.core.model_base import ModelBase as MB\n",
    "from grimsel import logger\n",
    "logger.setLevel(0)"
   ]
  },
  {
   "cell_type": "raw",
   "metadata": {},
   "source": [
    "Definition of the input data\n",
    "=============================\n",
    "\n",
    "First, all required input tables are explained and defined as :class:`pandas.Dataframes`. They are later written to csv files in order to be read by Grimsel. Input data in Grimsel is structured like a normalized database (see :ref:`Input data structure <input_data_structure>`). It is recommended to write input data to an appropriately constrained SQL schema to ensure consistency.\n",
    "\n",
    "The ``def_node`` table\n",
    "-------------------------\n",
    "\n",
    "The ``def_node`` table contains the mapping between *nd_id*s and node names *nd* as well as all parameters which are indexed by the nodes only. In this simple example we define a single node ``Node1`` with a certain |CO2| price ``price_co2`` (EUR/t). The node weight is used to scale nodes, e.g. to represent :math:`n` households through a single household node. It serves as a factor in the objective function :func:`grimsel.core.constraints.add_objective_rules` (all costs are scaled by *node_weight*), the supply constraint :func:`grimsel.core.constraints.add_supply_rules` (power exchange between nodes is scaled accordingly), and the cross-border transmission capacity (:func:`grimsel.core.constraints.add_transmission_bounds_rules`).\n",
    "\n",
    "Note that Grimsel is agnostic with respect to physical units. The price on |CO2| could be defined in different units as long as consistency with the other parameters (emission intensity etc.) is ensured.\n",
    "\n",
    "Columns which don't correspond to Grimsel parameter names are ignored. While this can cause mistakes, it is convenient to keep additional columns in the same tables for mmodifications of the model parameters (e.g. for future years, columns *_yr2020* etc. in the *plant_encar* table, see :ref:`Input data structure <input_data_structure>`)"
   ]
  },
  {
   "cell_type": "code",
   "execution_count": 36,
   "metadata": {},
   "outputs": [
    {
     "data": {
      "text/html": [
       "<div>\n",
       "<style scoped>\n",
       "    .dataframe tbody tr th:only-of-type {\n",
       "        vertical-align: middle;\n",
       "    }\n",
       "\n",
       "    .dataframe tbody tr th {\n",
       "        vertical-align: top;\n",
       "    }\n",
       "\n",
       "    .dataframe thead th {\n",
       "        text-align: right;\n",
       "    }\n",
       "</style>\n",
       "<table border=\"1\" class=\"dataframe\">\n",
       "  <thead>\n",
       "    <tr style=\"text-align: right;\">\n",
       "      <th></th>\n",
       "      <th>nd</th>\n",
       "      <th>nd_id</th>\n",
       "      <th>price_co2</th>\n",
       "      <th>nd_weight</th>\n",
       "    </tr>\n",
       "  </thead>\n",
       "  <tbody>\n",
       "    <tr>\n",
       "      <th>0</th>\n",
       "      <td>Node1</td>\n",
       "      <td>0</td>\n",
       "      <td>10</td>\n",
       "      <td>1</td>\n",
       "    </tr>\n",
       "  </tbody>\n",
       "</table>\n",
       "</div>"
      ],
      "text/plain": [
       "      nd  nd_id  price_co2  nd_weight\n",
       "0  Node1      0         10          1"
      ]
     },
     "metadata": {},
     "output_type": "display_data"
    }
   ],
   "source": [
    "df_def_node = pd.DataFrame({'nd': ['Node1'], \n",
    "                            'nd_id':[0], \n",
    "                            'price_co2': [10],\n",
    "                            'nd_weight': [1]})\n",
    "dict_nd = df_def_node.set_index('nd').nd_id.to_dict()\n",
    "display(df_def_node)"
   ]
  },
  {
   "cell_type": "raw",
   "metadata": {},
   "source": [
    ".. important::\n",
    "   The indices *nd_id* are best generated after the finalization of the table. The same holds for all other basic indices (power plants *pp_id*, fuels *fl_id* etc). It is good practice to never assume numerical indices as fixed, but to use translated names instead. The :class:`grimsel.core.auxiliary.maps.Maps` class provides convenience methods and attributes for this. For example, instead of referring to ``nd_id = 0`` we would always use ``nd_id = mps.dict_nd['Node1']`` instead (with ``mps`` an instance of the ``Maps`` class). Since the *def_node* table defines the node ids, the mapping between node names and ids is stored in the dictionary ``dict_nd`` for translation of the node names in the other tables (see below). "
   ]
  },
  {
   "cell_type": "raw",
   "metadata": {},
   "source": [
    "The ``def_fuel`` table\n",
    "--------------------------\n",
    "\n",
    "Every power plant in the broadest sense has a fuel. This includes fuel-less renewable generators (wind, solar), demand-like model components, and transmission between nodes. In this simple example we consider 3 concrete fuel types. The |CO2| emission intensity parameter *co2_int* defines the specific emissions per unit of fuel energy content :math:`\\mathrm{t_{CO_2}/MWh_{fl}}`.\n",
    "\n",
    ".. note::\n",
    "   Abstract fuels which follow directly from the model structure (demand, curtailment, transmission) don't have to be defined in the input table (though they can). They are automatically appended by the :module:`grimsel.core.autocomplete` module."
   ]
  },
  {
   "cell_type": "code",
   "execution_count": 37,
   "metadata": {},
   "outputs": [
    {
     "data": {
      "text/html": [
       "<div>\n",
       "<style scoped>\n",
       "    .dataframe tbody tr th:only-of-type {\n",
       "        vertical-align: middle;\n",
       "    }\n",
       "\n",
       "    .dataframe tbody tr th {\n",
       "        vertical-align: top;\n",
       "    }\n",
       "\n",
       "    .dataframe thead th {\n",
       "        text-align: right;\n",
       "    }\n",
       "</style>\n",
       "<table border=\"1\" class=\"dataframe\">\n",
       "  <thead>\n",
       "    <tr style=\"text-align: right;\">\n",
       "      <th></th>\n",
       "      <th>fl_id</th>\n",
       "      <th>fl</th>\n",
       "      <th>co2_int</th>\n",
       "    </tr>\n",
       "  </thead>\n",
       "  <tbody>\n",
       "    <tr>\n",
       "      <th>0</th>\n",
       "      <td>0</td>\n",
       "      <td>natural_gas</td>\n",
       "      <td>0.20</td>\n",
       "    </tr>\n",
       "    <tr>\n",
       "      <th>1</th>\n",
       "      <td>1</td>\n",
       "      <td>hard_coal</td>\n",
       "      <td>0.35</td>\n",
       "    </tr>\n",
       "    <tr>\n",
       "      <th>2</th>\n",
       "      <td>2</td>\n",
       "      <td>solar</td>\n",
       "      <td>0.00</td>\n",
       "    </tr>\n",
       "  </tbody>\n",
       "</table>\n",
       "</div>"
      ],
      "text/plain": [
       "   fl_id           fl  co2_int\n",
       "0      0  natural_gas     0.20\n",
       "1      1    hard_coal     0.35\n",
       "2      2        solar     0.00"
      ]
     },
     "metadata": {},
     "output_type": "display_data"
    }
   ],
   "source": [
    "df_def_fuel = pd.DataFrame({'fl_id': range(3),\n",
    "                            'fl': ['natural_gas', 'hard_coal', 'solar'], \n",
    "                            'co2_int': [0.20, 0.35, 0]})\n",
    "dict_fl = df_def_fuel.set_index('fl').fl_id.to_dict()\n",
    "display(df_def_fuel)"
   ]
  },
  {
   "cell_type": "raw",
   "metadata": {},
   "source": [
    "The ``def_encar`` table\n",
    "--------------------------\n",
    "\n",
    "Definition of produced energy carriers.\n",
    "\n",
    ".. note::\n",
    "   In systems where a produced energy carrier can be consumed by other plants (e.g. electricity to produce heat), a column *fl_id* is required, which maps the output (e.g. electricity) carrier to the input (e.g. electricity) fuel."
   ]
  },
  {
   "cell_type": "code",
   "execution_count": 38,
   "metadata": {},
   "outputs": [
    {
     "data": {
      "text/html": [
       "<div>\n",
       "<style scoped>\n",
       "    .dataframe tbody tr th:only-of-type {\n",
       "        vertical-align: middle;\n",
       "    }\n",
       "\n",
       "    .dataframe tbody tr th {\n",
       "        vertical-align: top;\n",
       "    }\n",
       "\n",
       "    .dataframe thead th {\n",
       "        text-align: right;\n",
       "    }\n",
       "</style>\n",
       "<table border=\"1\" class=\"dataframe\">\n",
       "  <thead>\n",
       "    <tr style=\"text-align: right;\">\n",
       "      <th></th>\n",
       "      <th>ca_id</th>\n",
       "      <th>ca</th>\n",
       "    </tr>\n",
       "  </thead>\n",
       "  <tbody>\n",
       "    <tr>\n",
       "      <th>0</th>\n",
       "      <td>0</td>\n",
       "      <td>EL</td>\n",
       "    </tr>\n",
       "  </tbody>\n",
       "</table>\n",
       "</div>"
      ],
      "text/plain": [
       "   ca_id  ca\n",
       "0      0  EL"
      ]
     },
     "metadata": {},
     "output_type": "display_data"
    }
   ],
   "source": [
    "df_def_encar = pd.DataFrame({'ca_id': [0],\n",
    "                             'ca': ['EL']})\n",
    "dict_ca = df_def_encar.set_index('ca').ca_id.to_dict()\n",
    "display(df_def_encar)"
   ]
  },
  {
   "cell_type": "raw",
   "metadata": {},
   "source": [
    "The ``def_pp_type`` table\n",
    "---------------------------\n",
    "This table defines the power plant type, which---similar to the fuel---groups power plants according to certain characteristics. Its purpose is filtering of model input and power plant aggregation for analysis. No parameters, variables, or constraints are associated with the power plant type."
   ]
  },
  {
   "cell_type": "code",
   "execution_count": 39,
   "metadata": {},
   "outputs": [
    {
     "data": {
      "text/html": [
       "<div>\n",
       "<style scoped>\n",
       "    .dataframe tbody tr th:only-of-type {\n",
       "        vertical-align: middle;\n",
       "    }\n",
       "\n",
       "    .dataframe tbody tr th {\n",
       "        vertical-align: top;\n",
       "    }\n",
       "\n",
       "    .dataframe thead th {\n",
       "        text-align: right;\n",
       "    }\n",
       "</style>\n",
       "<table border=\"1\" class=\"dataframe\">\n",
       "  <thead>\n",
       "    <tr style=\"text-align: right;\">\n",
       "      <th></th>\n",
       "      <th>pt_id</th>\n",
       "      <th>pt</th>\n",
       "    </tr>\n",
       "  </thead>\n",
       "  <tbody>\n",
       "    <tr>\n",
       "      <th>0</th>\n",
       "      <td>0</td>\n",
       "      <td>GAS_LIN</td>\n",
       "    </tr>\n",
       "    <tr>\n",
       "      <th>1</th>\n",
       "      <td>1</td>\n",
       "      <td>SOLAR</td>\n",
       "    </tr>\n",
       "    <tr>\n",
       "      <th>2</th>\n",
       "      <td>2</td>\n",
       "      <td>HCO_ELC</td>\n",
       "    </tr>\n",
       "  </tbody>\n",
       "</table>\n",
       "</div>"
      ],
      "text/plain": [
       "   pt_id       pt\n",
       "0      0  GAS_LIN\n",
       "1      1    SOLAR\n",
       "2      2  HCO_ELC"
      ]
     },
     "metadata": {},
     "output_type": "display_data"
    }
   ],
   "source": [
    "df_def_pp_type = pd.DataFrame({'pt_id': range(3), 'pt': ['GAS_LIN', 'SOLAR', 'HCO_ELC']})\n",
    "dict_pt = df_def_pp_type.set_index('pt').pt_id.to_dict()\n",
    "display(df_def_pp_type)"
   ]
  },
  {
   "cell_type": "raw",
   "metadata": {},
   "source": [
    "The ``def_plant`` table\n",
    "--------------------------\n",
    "\n",
    "The def plant table defines the power plants. It establishes the link between the fuel ids, the power plant type ids, and the node ids with power plants. Furthermore, it assigns power plants to certain :ref:`power plant subsets <power_plant_sets>`. In the example below, we define the subsets of \n",
    "\n",
    "* fixed profile plants (wind, *set_def_pr*)\n",
    "* dispatchable power plants (both gas plants and coal, *set_def_pp*)\n",
    "* power plants with linear cost supply curve (*ND1_GAS_LIN*, *set_def_lin*); these plants require the definition of the supply curve coefficients (see the :ref:corresponding input table`<introductory_example_plant_encar>`).\n",
    "* power plants whose capacity can be expanded/invested in (new gas and wind, *set_def_add*)"
   ]
  },
  {
   "cell_type": "code",
   "execution_count": 40,
   "metadata": {},
   "outputs": [
    {
     "data": {
      "text/html": [
       "<div>\n",
       "<style scoped>\n",
       "    .dataframe tbody tr th:only-of-type {\n",
       "        vertical-align: middle;\n",
       "    }\n",
       "\n",
       "    .dataframe tbody tr th {\n",
       "        vertical-align: top;\n",
       "    }\n",
       "\n",
       "    .dataframe thead th {\n",
       "        text-align: right;\n",
       "    }\n",
       "</style>\n",
       "<table border=\"1\" class=\"dataframe\">\n",
       "  <thead>\n",
       "    <tr style=\"text-align: right;\">\n",
       "      <th></th>\n",
       "      <th>pp</th>\n",
       "      <th>pp_id</th>\n",
       "      <th>pt_id</th>\n",
       "      <th>nd_id</th>\n",
       "      <th>fl_id</th>\n",
       "      <th>set_def_pr</th>\n",
       "      <th>set_def_pp</th>\n",
       "      <th>set_def_lin</th>\n",
       "      <th>set_def_add</th>\n",
       "    </tr>\n",
       "  </thead>\n",
       "  <tbody>\n",
       "    <tr>\n",
       "      <th>0</th>\n",
       "      <td>ND1_GAS_LIN</td>\n",
       "      <td>0</td>\n",
       "      <td>0</td>\n",
       "      <td>0</td>\n",
       "      <td>0</td>\n",
       "      <td>0</td>\n",
       "      <td>1</td>\n",
       "      <td>1</td>\n",
       "      <td>0</td>\n",
       "    </tr>\n",
       "    <tr>\n",
       "      <th>1</th>\n",
       "      <td>ND1_GAS_NEW</td>\n",
       "      <td>1</td>\n",
       "      <td>0</td>\n",
       "      <td>0</td>\n",
       "      <td>0</td>\n",
       "      <td>0</td>\n",
       "      <td>1</td>\n",
       "      <td>0</td>\n",
       "      <td>1</td>\n",
       "    </tr>\n",
       "    <tr>\n",
       "      <th>2</th>\n",
       "      <td>ND1_SOLAR</td>\n",
       "      <td>2</td>\n",
       "      <td>1</td>\n",
       "      <td>0</td>\n",
       "      <td>2</td>\n",
       "      <td>1</td>\n",
       "      <td>0</td>\n",
       "      <td>0</td>\n",
       "      <td>1</td>\n",
       "    </tr>\n",
       "    <tr>\n",
       "      <th>3</th>\n",
       "      <td>ND1_HCO_ELC</td>\n",
       "      <td>3</td>\n",
       "      <td>2</td>\n",
       "      <td>0</td>\n",
       "      <td>1</td>\n",
       "      <td>0</td>\n",
       "      <td>1</td>\n",
       "      <td>0</td>\n",
       "      <td>0</td>\n",
       "    </tr>\n",
       "  </tbody>\n",
       "</table>\n",
       "</div>"
      ],
      "text/plain": [
       "            pp  pp_id  pt_id  nd_id  fl_id  set_def_pr  set_def_pp  \\\n",
       "0  ND1_GAS_LIN      0      0      0      0           0           1   \n",
       "1  ND1_GAS_NEW      1      0      0      0           0           1   \n",
       "2    ND1_SOLAR      2      1      0      2           1           0   \n",
       "3  ND1_HCO_ELC      3      2      0      1           0           1   \n",
       "\n",
       "   set_def_lin  set_def_add  \n",
       "0            1            0  \n",
       "1            0            1  \n",
       "2            0            1  \n",
       "3            0            0  "
      ]
     },
     "metadata": {},
     "output_type": "display_data"
    }
   ],
   "source": [
    "df_def_plant = pd.DataFrame({'pp': ['ND1_GAS_LIN', 'ND1_GAS_NEW', 'ND1_SOLAR', 'ND1_HCO_ELC'],\n",
    "                             'pp_id': range(4),\n",
    "                             'pt_id': ['GAS_LIN', 'GAS_LIN', 'SOLAR', 'HCO_ELC'],\n",
    "                             'nd_id': ['Node1'] * 4,\n",
    "                             'fl_id': ['natural_gas', 'natural_gas', 'solar', 'hard_coal'],\n",
    "                             'set_def_pr': [0, 0, 1, 0],\n",
    "                             'set_def_pp': [1, 1, 0, 1],\n",
    "                             'set_def_lin': [1, 0, 0, 0],\n",
    "                             'set_def_add': [0, 1, 1, 0],\n",
    "                            })\n",
    "# translate columns to id using the previously defined def tables\n",
    "df_def_plant = df_def_plant.assign(pt_id=df_def_plant.pt_id.replace(dict_pt),\n",
    "                                   nd_id=df_def_plant.nd_id.replace(dict_nd),\n",
    "                                   fl_id=df_def_plant.fl_id.replace(dict_fl))\n",
    "dict_pp = df_def_plant.set_index('pp').pp_id.to_dict()\n",
    "\n",
    "display(df_def_plant)"
   ]
  },
  {
   "cell_type": "raw",
   "metadata": {},
   "source": [
    ".. _introductory_example_def_profile::\n",
    "\n",
    "The ``def_profile`` table\n",
    "--------------------------\n",
    "\n",
    "This table assigns an id to the model's temporal profiles, i.e. parameters which are defined for each time slot. In the example below this includes \n",
    "\n",
    "* the demand (units :math:`\\mathrm{MW}`)\n",
    "* the wind supply profiles (capacity factors per time slot, unitless). \n",
    "\n",
    "Other profiles not included in this example\n",
    "\n",
    "* price profiles (e.g. to model households or micro-grids buying eletricity with time-dependencies of electricity tariffs)\n",
    "* CHP profiles which define a lower bound of power production for certain power plants"
   ]
  },
  {
   "cell_type": "code",
   "execution_count": 41,
   "metadata": {},
   "outputs": [
    {
     "data": {
      "text/html": [
       "<div>\n",
       "<style scoped>\n",
       "    .dataframe tbody tr th:only-of-type {\n",
       "        vertical-align: middle;\n",
       "    }\n",
       "\n",
       "    .dataframe tbody tr th {\n",
       "        vertical-align: top;\n",
       "    }\n",
       "\n",
       "    .dataframe thead th {\n",
       "        text-align: right;\n",
       "    }\n",
       "</style>\n",
       "<table border=\"1\" class=\"dataframe\">\n",
       "  <thead>\n",
       "    <tr style=\"text-align: right;\">\n",
       "      <th></th>\n",
       "      <th>pf_id</th>\n",
       "      <th>pf</th>\n",
       "    </tr>\n",
       "  </thead>\n",
       "  <tbody>\n",
       "    <tr>\n",
       "      <th>0</th>\n",
       "      <td>0</td>\n",
       "      <td>SUPPLY_SOLAR</td>\n",
       "    </tr>\n",
       "    <tr>\n",
       "      <th>1</th>\n",
       "      <td>1</td>\n",
       "      <td>DMND_NODE1</td>\n",
       "    </tr>\n",
       "  </tbody>\n",
       "</table>\n",
       "</div>"
      ],
      "text/plain": [
       "   pf_id            pf\n",
       "0      0  SUPPLY_SOLAR\n",
       "1      1    DMND_NODE1"
      ]
     },
     "metadata": {},
     "output_type": "display_data"
    }
   ],
   "source": [
    "df_def_profile = pd.DataFrame({'pf_id': range(2),\n",
    "                               'pf': ['SUPPLY_SOLAR', 'DMND_NODE1']})\n",
    "dict_pf = df_def_profile.set_index('pf').pf_id.to_dict()\n",
    "display(df_def_profile)"
   ]
  },
  {
   "cell_type": "raw",
   "metadata": {},
   "source": [
    ".. _introductory_example_plant_encar:\n",
    "\n",
    "The ``plant_encar`` table\n",
    "--------------------------\n",
    "\n",
    "This table contains the main collection of power plant parameters. It is indexed by the power plant id and the energy carrier id. For example, a CHP plant might have different efficiencies for the production of heat and electricity. In the example below, only electricity is considered as an energy carrier.\n",
    "\n",
    "The parameters included in the table below are defined in the :class:`grimsel.core.parameters.Parameters` documentation. Note that as of now Grimsel requires fixed cost annuities (e.g. :math:`EUR/MW/yr`). In the example below they arae calculated a-priori."
   ]
  },
  {
   "cell_type": "code",
   "execution_count": 44,
   "metadata": {},
   "outputs": [
    {
     "data": {
      "text/html": [
       "<div>\n",
       "<style scoped>\n",
       "    .dataframe tbody tr th:only-of-type {\n",
       "        vertical-align: middle;\n",
       "    }\n",
       "\n",
       "    .dataframe tbody tr th {\n",
       "        vertical-align: top;\n",
       "    }\n",
       "\n",
       "    .dataframe thead th {\n",
       "        text-align: right;\n",
       "    }\n",
       "</style>\n",
       "<table border=\"1\" class=\"dataframe\">\n",
       "  <thead>\n",
       "    <tr style=\"text-align: right;\">\n",
       "      <th></th>\n",
       "      <th>pp_id</th>\n",
       "      <th>ca_id</th>\n",
       "      <th>supply_pf_id</th>\n",
       "      <th>pp_eff</th>\n",
       "      <th>factor_lin_0</th>\n",
       "      <th>factor_lin_1</th>\n",
       "      <th>cap_pwr_leg</th>\n",
       "      <th>fc_cp_ann</th>\n",
       "    </tr>\n",
       "  </thead>\n",
       "  <tbody>\n",
       "    <tr>\n",
       "      <th>0</th>\n",
       "      <td>0</td>\n",
       "      <td>0</td>\n",
       "      <td>None</td>\n",
       "      <td>NaN</td>\n",
       "      <td>2.5</td>\n",
       "      <td>0.000208</td>\n",
       "      <td>0</td>\n",
       "      <td>NaN</td>\n",
       "    </tr>\n",
       "    <tr>\n",
       "      <th>1</th>\n",
       "      <td>1</td>\n",
       "      <td>0</td>\n",
       "      <td>None</td>\n",
       "      <td>0.6</td>\n",
       "      <td>NaN</td>\n",
       "      <td>NaN</td>\n",
       "      <td>0</td>\n",
       "      <td>69747.645581</td>\n",
       "    </tr>\n",
       "    <tr>\n",
       "      <th>2</th>\n",
       "      <td>2</td>\n",
       "      <td>0</td>\n",
       "      <td>0</td>\n",
       "      <td>NaN</td>\n",
       "      <td>NaN</td>\n",
       "      <td>NaN</td>\n",
       "      <td>0</td>\n",
       "      <td>130776.835465</td>\n",
       "    </tr>\n",
       "    <tr>\n",
       "      <th>3</th>\n",
       "      <td>3</td>\n",
       "      <td>0</td>\n",
       "      <td>None</td>\n",
       "      <td>0.4</td>\n",
       "      <td>NaN</td>\n",
       "      <td>NaN</td>\n",
       "      <td>5000</td>\n",
       "      <td>NaN</td>\n",
       "    </tr>\n",
       "  </tbody>\n",
       "</table>\n",
       "</div>"
      ],
      "text/plain": [
       "   pp_id  ca_id supply_pf_id  pp_eff  factor_lin_0  factor_lin_1  cap_pwr_leg  \\\n",
       "0      0      0         None     NaN           2.5      0.000208            0   \n",
       "1      1      0         None     0.6           NaN           NaN            0   \n",
       "2      2      0            0     NaN           NaN           NaN            0   \n",
       "3      3      0         None     0.4           NaN           NaN         5000   \n",
       "\n",
       "       fc_cp_ann  \n",
       "0            NaN  \n",
       "1   69747.645581  \n",
       "2  130776.835465  \n",
       "3            NaN  "
      ]
     },
     "metadata": {},
     "output_type": "display_data"
    }
   ],
   "source": [
    "eff_gas_min = 0.4\n",
    "eff_gas_max = 0.6\n",
    "cap_gas = 4000.\n",
    "f0_gas = 1/eff_gas_min\n",
    "f1_gas = 1/cap_gas * (f0_gas - 1/eff_gas_max)\n",
    "\n",
    "\n",
    "dr, lt = 0.06, 20 # assumed discount rate 6% and life time\n",
    "fact_ann = ((1+dr)**lt * dr) / ((1+dr)**lt - 1)\n",
    "\n",
    "fc_cp_gas = 800000  # assumed capital cost nenw gas plants (EUR/MW)\n",
    "fc_cp_gas_ann = fact_ann * fc_cp_gas\n",
    "\n",
    "fc_cp_solar = 1500000  # assumed capital cost solar power (EUR/MW)\n",
    "fc_cp_solar_ann = fact_ann * fc_cp_solar\n",
    "\n",
    "df_plant_encar = pd.DataFrame({'pp_id': ['ND1_GAS_LIN', 'ND1_GAS_NEW', 'ND1_SOLAR', 'ND1_HCO_ELC'],\n",
    "                               'ca_id': ['EL'] * 4,\n",
    "                               'supply_pf_id': [None, None, 'SUPPLY_SOLAR', None],\n",
    "                               'pp_eff': [None, eff_gas_max, None, 0.4],\n",
    "                               'factor_lin_0': [f0_gas, None, None, None],\n",
    "                               'factor_lin_1': [f1_gas, None, None, None],\n",
    "                               'cap_pwr_leg': [0, 0, 0, 5000],\n",
    "                               'fc_cp_ann': [None, fc_cp_gas_ann, fc_cp_solar_ann, None],\n",
    "                              })\n",
    "\n",
    "df_plant_encar = df_plant_encar.assign(supply_pf_id=df_plant_encar.supply_pf_id.replace(dict_pf),\n",
    "                                       pp_id=df_plant_encar.pp_id.replace(dict_pp),\n",
    "                                       ca_id=df_plant_encar.ca_id.replace(dict_ca))\n",
    "display(df_plant_encar)"
   ]
  },
  {
   "cell_type": "code",
   "execution_count": 45,
   "metadata": {},
   "outputs": [
    {
     "data": {
      "text/plain": [
       "130776.83546527711"
      ]
     },
     "execution_count": 45,
     "metadata": {},
     "output_type": "execute_result"
    }
   ],
   "source": [
    "fc_cp_solar_ann"
   ]
  },
  {
   "cell_type": "raw",
   "metadata": {},
   "source": [
    "The ``node_encar`` table\n",
    "------------------------\n",
    "\n",
    "This table maps the demand profile for a certain energy carrier in a certain node to the corresponding profile id. In addition, grid losses depend on the node and the energy carrier. They would be defined in this table. Since they default to zero (see :class:`grimsel.core.parameters.Parameters`), they are omitted.\n",
    "\n",
    ".. note::\n",
    "   While this column is not used in the model, the total demand per node and energy carrier (*dmnd_sum*) could be added to this table, to scale demand profiles according to the total demand during future years."
   ]
  },
  {
   "cell_type": "code",
   "execution_count": 46,
   "metadata": {},
   "outputs": [
    {
     "data": {
      "text/html": [
       "<div>\n",
       "<style scoped>\n",
       "    .dataframe tbody tr th:only-of-type {\n",
       "        vertical-align: middle;\n",
       "    }\n",
       "\n",
       "    .dataframe tbody tr th {\n",
       "        vertical-align: top;\n",
       "    }\n",
       "\n",
       "    .dataframe thead th {\n",
       "        text-align: right;\n",
       "    }\n",
       "</style>\n",
       "<table border=\"1\" class=\"dataframe\">\n",
       "  <thead>\n",
       "    <tr style=\"text-align: right;\">\n",
       "      <th></th>\n",
       "      <th>nd_id</th>\n",
       "      <th>ca_id</th>\n",
       "      <th>dmnd_pf_id</th>\n",
       "    </tr>\n",
       "  </thead>\n",
       "  <tbody>\n",
       "    <tr>\n",
       "      <th>0</th>\n",
       "      <td>0</td>\n",
       "      <td>0</td>\n",
       "      <td>1</td>\n",
       "    </tr>\n",
       "  </tbody>\n",
       "</table>\n",
       "</div>"
      ],
      "text/plain": [
       "   nd_id  ca_id  dmnd_pf_id\n",
       "0      0      0           1"
      ]
     },
     "execution_count": 46,
     "metadata": {},
     "output_type": "execute_result"
    }
   ],
   "source": [
    "df_node_encar = pd.DataFrame({'nd_id': ['Node1'], 'ca_id': ['EL'],\n",
    "                              'dmnd_pf_id': ['DMND_NODE1']\n",
    "                              })\n",
    "df_node_encar = df_node_encar.assign(nd_id=df_node_encar.nd_id.replace(dict_nd),\n",
    "                                     ca_id=df_node_encar.ca_id.replace(dict_ca),\n",
    "                                     dmnd_pf_id=df_node_encar.dmnd_pf_id.replace(dict_pf))\n",
    "df_node_encar"
   ]
  },
  {
   "cell_type": "raw",
   "metadata": {},
   "source": [
    "The ``fuel_node_encar`` table\n",
    "--------------------------------\n",
    "\n",
    "The fuel cost is defined per fuel, node, and produced energy carrier. The indexing of this parameter by produced energy carrier is not necessarily meaningful, but no separate ``fuel_node`` table exists as of now.\n",
    "\n",
    "Other parameters defined in this table are listed in the parameter docs."
   ]
  },
  {
   "cell_type": "code",
   "execution_count": 47,
   "metadata": {},
   "outputs": [
    {
     "data": {
      "text/html": [
       "<div>\n",
       "<style scoped>\n",
       "    .dataframe tbody tr th:only-of-type {\n",
       "        vertical-align: middle;\n",
       "    }\n",
       "\n",
       "    .dataframe tbody tr th {\n",
       "        vertical-align: top;\n",
       "    }\n",
       "\n",
       "    .dataframe thead th {\n",
       "        text-align: right;\n",
       "    }\n",
       "</style>\n",
       "<table border=\"1\" class=\"dataframe\">\n",
       "  <thead>\n",
       "    <tr style=\"text-align: right;\">\n",
       "      <th></th>\n",
       "      <th>fl_id</th>\n",
       "      <th>nd_id</th>\n",
       "      <th>ca_id</th>\n",
       "      <th>vc_fl</th>\n",
       "    </tr>\n",
       "  </thead>\n",
       "  <tbody>\n",
       "    <tr>\n",
       "      <th>0</th>\n",
       "      <td>0</td>\n",
       "      <td>0</td>\n",
       "      <td>0</td>\n",
       "      <td>40</td>\n",
       "    </tr>\n",
       "    <tr>\n",
       "      <th>1</th>\n",
       "      <td>1</td>\n",
       "      <td>0</td>\n",
       "      <td>0</td>\n",
       "      <td>10</td>\n",
       "    </tr>\n",
       "  </tbody>\n",
       "</table>\n",
       "</div>"
      ],
      "text/plain": [
       "  fl_id  nd_id  ca_id  vc_fl\n",
       "0     0      0      0     40\n",
       "1     1      0      0     10"
      ]
     },
     "execution_count": 47,
     "metadata": {},
     "output_type": "execute_result"
    }
   ],
   "source": [
    "df_fuel_node_encar = pd.DataFrame({'fl_id': ['natural_gas', 'hard_coal'],\n",
    "                                   'nd_id': ['Node1'] * 2,\n",
    "                                   'ca_id': ['EL'] * 2,\n",
    "                                   'vc_fl': [40, 10],\n",
    "                                  })\n",
    "df_fuel_node_encar = df_fuel_node_encar.assign(fl_id=df_fuel_node_encar.fl_id.replace(dict_fl),\n",
    "                                       nd_id=df_fuel_node_encar.nd_id.replace(dict_nd),\n",
    "                                       ca_id=df_fuel_node_encar.ca_id.replace(dict_ca))\n",
    "df_fuel_node_encar"
   ]
  },
  {
   "cell_type": "raw",
   "metadata": {},
   "source": [
    "The ``profsupply`` table\n",
    "--------------------------\n",
    "\n",
    "This table contains the supply profiles (see table :ref:`def_profile <introductory_example_def_profile>`) for each supply profile id and \"each hour of the year\" ``hy``. The hour of the year corresponds to the raw time resolution, which is defined and potentially reduced during the model call.\n",
    "\n",
    "Note that no capacity constraints apply to plants with fixed profiles. Consequently, Grimsel would accept capacity factors > 1.\n",
    "\n",
    "The \n",
    "\n",
    "As always, units are implicitly defined by the input data. Another approach would be the definition of the profile in terms of :math:`\\mathrm{MW}` while keeping the capacities of the corresponding plants equal to 1."
   ]
  },
  {
   "cell_type": "code",
   "execution_count": 48,
   "metadata": {},
   "outputs": [
    {
     "data": {
      "image/png": "[encoded data removed]",
      "text/plain": [
       "<Figure size 432x288 with 1 Axes>"
      ]
     },
     "metadata": {
      "needs_background": "light"
     },
     "output_type": "display_data"
    }
   ],
   "source": [
    "prf = [0.08, 0.12, 0.15, 0.20, 0.19, 0.20, \n",
    "       0.21, 0.18, 0.16, 0.12, 0.10, 0.09]\n",
    "df_profsupply = pd.DataFrame({'supply_pf_id': [dict_pf['SUPPLY_SOLAR']] * len(prf),\n",
    "                              'hy': range(0, 8760, 730), 'value': prf})\n",
    "\n",
    "_ = df_profsupply.set_index('hy')[['value']].plot.bar()"
   ]
  },
  {
   "cell_type": "raw",
   "metadata": {},
   "source": [
    "The ``profdmnd`` table\n",
    "--------------------------\n",
    "\n",
    "Defines the demand profile (units :math:`\\mathrm{MW}`)\n"
   ]
  },
  {
   "cell_type": "code",
   "execution_count": 49,
   "metadata": {},
   "outputs": [
    {
     "data": {
      "image/png": "[encoded data removed]",
      "text/plain": [
       "<Figure size 432x288 with 1 Axes>"
      ]
     },
     "metadata": {
      "needs_background": "light"
     },
     "output_type": "display_data"
    }
   ],
   "source": [
    "prf = [7951.7, 8543.8, 7302.0, 5938.3, 5323.8, 5411.6, \n",
    "       5582.0, 5776.5, 6304.9, 6736.7, 7327.8, 7720.7]\n",
    "\n",
    "df_profdmnd = pd.DataFrame({'dmnd_pf_id': [dict_pf['DMND_NODE1']] * len(prf),\n",
    "                            'hy':  range(0, 8760, 730), 'value': prf})\n",
    "\n",
    "_ = df_profdmnd.set_index('hy')[['value']].plot.bar()"
   ]
  },
  {
   "cell_type": "raw",
   "metadata": {},
   "source": [
    "Writing input tables to disk\n",
    "---------------------------------\n",
    "\n",
    "All tables are saved as csv files. This is currently the input data format of choice. PostgreSQL input support needs to be fixed. "
   ]
  },
  {
   "cell_type": "code",
   "execution_count": 50,
   "metadata": {},
   "outputs": [],
   "source": [
    "import os\n",
    "try: os.mkdir('introductory_example_files')\n",
    "except: pass\n",
    "for dftb, tbname in [(df_def_node, 'def_node'),\n",
    "                   (df_def_plant, 'def_plant'),\n",
    "                   (df_def_fuel, 'def_fuel'),\n",
    "                   (df_def_encar, 'def_encar'),\n",
    "                   (df_node_encar, 'node_encar'),\n",
    "                   (df_def_pp_type, 'def_pp_type'),\n",
    "                   (df_plant_encar, 'plant_encar'),\n",
    "                   (df_def_profile, 'def_profile'),\n",
    "                   (df_fuel_node_encar, 'fuel_node_encar'),\n",
    "                   (df_profsupply, 'profsupply'),\n",
    "                   (df_profdmnd, 'profdmnd')]:\n",
    "    dftb.to_csv('introductory_example_files/{}.csv'.format(tbname), index=False)"
   ]
  },
  {
   "cell_type": "code",
   "execution_count": 51,
   "metadata": {},
   "outputs": [
    {
     "data": {
      "text/plain": [
       "<grimsel.core.model_base.ModelBase at 0x7f6c6df4b798>"
      ]
     },
     "execution_count": 51,
     "metadata": {},
     "output_type": "execute_result"
    }
   ],
   "source": [
    "from grimsel.core.model_base import ModelBase\n",
    "mkwargs = {}\n",
    "\n",
    "ModelBase(**mkwargs)\n"
   ]
  },
  {
   "cell_type": "raw",
   "metadata": {},
   "source": [
    "Setting up the model instance\n",
    "=============================\n",
    "\n",
    "The model instance (class :class:`grimsel.core.model_base.ModelBase`) is intialized through the :class:`grimsel.core.model_loop.ModelLoop` class. The ModelLoop manages model variations and initializes the IO class, which reads and writes the model input and output data. Note that because of this setup, the ModelBase class cannot be initialized on its own in a meaningful way, since it lacks the features of reading and writing data. \n",
    "\n",
    "The model parameter is only the time slot structure: Here we specify that the input data has 730 (1 month) time resolution, and that we want to construct the model with the same number of time slots: ``(730, 730)``. Alternatively, we could lower the time resolution to any multiple of the original time resolution, e.g. ``(730, 730*2)``.\n",
    "\n",
    "\n",
    "The IO class is initialized using the following parameters:\n",
    "\n",
    "* ``data_path``: location of the input (csv) files\n",
    "* ``output_target``: one of (``fastparquet``, ``psql``, ``hdf5``); current, ``fastparquet`` is the format of choice, the others require fixing\n",
    "* ``cl_out``: output collection; here: path for parquet files; parquet files are written separately by variable and model run; alternatively PostgreSQL schema (if ``output_target == psql``) or HDF5 file name\n",
    "* ``dev_mode: True`` skips confirmation prompt prior to overwriting existing output files"
   ]
  },
  {
   "cell_type": "code",
   "execution_count": 17,
   "metadata": {},
   "outputs": [],
   "source": [
    "mkwargs = {'nhours': (730, 730)}\n",
    "iokwargs = {'data_path': os.path.abspath('introductory_example_files/'),\n",
    "            'output_target': 'fastparquet',\n",
    "            'autocomplete_curtailment': True,\n",
    "            'cl_out': 'introductory_example_files/output',  # output collection (here: path for parquet files)\n",
    "            'dev_mode': True, # skips confirmation prompt prior to overwriting existing output files\n",
    "           }"
   ]
  },
  {
   "cell_type": "raw",
   "metadata": {},
   "source": [
    "The ``nsteps`` list is the main parameter defining the model variations. In this example, we want to vary the |CO2| price for 5 values of equal spacing (``swco``). In adddition, the installation of new gas power plants is allowed or not (2 discrete value ``swnewgas``). The prefix ``sw`` (\"sweep\") is a convention and not strictly necessary."
   ]
  },
  {
   "cell_type": "code",
   "execution_count": 18,
   "metadata": {},
   "outputs": [],
   "source": [
    "nsteps = [('swco', 5, np.linspace),  # CO2 emission price\n",
    "          ('swnewgas', 2, np.arange),  # allow installation of new gas plants yes/no\n",
    "         ]"
   ]
  },
  {
   "cell_type": "raw",
   "metadata": {},
   "source": [
    "For convenience, we can define appropriate dictionaries with clearer names for the envisioned model modifications:"
   ]
  },
  {
   "cell_type": "code",
   "execution_count": 19,
   "metadata": {},
   "outputs": [],
   "source": [
    "dict_swnewgas = {0: 'default', 1: 'exclude_gas'}"
   ]
  },
  {
   "cell_type": "raw",
   "metadata": {},
   "source": [
    "The |CO2| price will be scaled between 0 and a maximum. Therefore, no such names definitions are necessary."
   ]
  },
  {
   "cell_type": "raw",
   "metadata": {},
   "source": [
    "Initializing the ``ModelLoop`` class results in the following:\n",
    "\n",
    "* Initialization of a ``ModelBase`` instance, which subclasses the Pyomo Model class, holds all model components, and performs single model runs\n",
    "* Initialization of a :class:`grimsel.core.io.IO` instance, which takes care of input data reading and output data writing\n",
    "* The creation of the ``ModelLoop.def_run`` table (see below)\n",
    "* call the :py:meth:`grimsel.core.io.IO.read_model_data` method \n",
    "* call the :py:meth:`grimsel.core.model_base.ModelBase.init_maps` method which creates a :class:`grimsel.core.auxiliary.maps.Maps` instance (see below)\n",
    "* call the :py:meth:`grimsel.core.model_base.ModelBase.map_to_time_res` method which handles all functionalities related to time mapping and \n",
    "* call the :py:meth:`grimsel.core.io.IO.write_runtime_tables` method, which writes model tables which where generated during model creation\n",
    "* call the :py:meth:`grimsel.core.model_base.ModelBase.get_setlst` method\n",
    "* call the :py:meth:`grimsel.core.model_base.ModelBase.define_sets` method\n",
    "* call the :py:meth:`grimsel.core.model_base.ModelBase.add_parameters` method\n",
    "* call the :py:meth:`grimsel.core.model_base.ModelBase.define_variables` method\n",
    "* call the :py:meth:`grimsel.core.model_base.ModelBase.add_all_constraints` method\n",
    "* call the :py:meth:`grimsel.core.model_base.ModelBase.init_solver` method\n",
    "* call the :py:meth:`grimsel.core.io.IO.init_output_tables` method"
   ]
  },
  {
   "cell_type": "code",
   "execution_count": 20,
   "metadata": {},
   "outputs": [],
   "source": [
    "logger.setLevel('ERROR')\n",
    "ml = model_loop.ModelLoop(nsteps=nsteps, mkwargs=mkwargs, iokwargs=iokwargs)"
   ]
  },
  {
   "cell_type": "raw",
   "metadata": {},
   "source": [
    "The `ml.df_def_run` table\n",
    "-------------------------\n",
    "\n",
    "The model runs to be performed are summarized in the `ml.df_def_run` table. By default it contains all combinations of model parameter variations defined in the `nhours` parameter:"
   ]
  },
  {
   "cell_type": "code",
   "execution_count": 21,
   "metadata": {},
   "outputs": [
    {
     "data": {
      "text/html": [
       "<div>\n",
       "<style scoped>\n",
       "    .dataframe tbody tr th:only-of-type {\n",
       "        vertical-align: middle;\n",
       "    }\n",
       "\n",
       "    .dataframe tbody tr th {\n",
       "        vertical-align: top;\n",
       "    }\n",
       "\n",
       "    .dataframe thead th {\n",
       "        text-align: right;\n",
       "    }\n",
       "</style>\n",
       "<table border=\"1\" class=\"dataframe\">\n",
       "  <thead>\n",
       "    <tr style=\"text-align: right;\">\n",
       "      <th></th>\n",
       "      <th>run_id</th>\n",
       "      <th>swco_id</th>\n",
       "      <th>swnewgas_id</th>\n",
       "      <th>swco</th>\n",
       "      <th>swnewgas</th>\n",
       "      <th>swco_vl</th>\n",
       "      <th>swnewgas_vl</th>\n",
       "    </tr>\n",
       "  </thead>\n",
       "  <tbody>\n",
       "    <tr>\n",
       "      <th>0</th>\n",
       "      <td>0</td>\n",
       "      <td>0.0</td>\n",
       "      <td>0.0</td>\n",
       "      <td>0.00</td>\n",
       "      <td>0.0</td>\n",
       "      <td>NaN</td>\n",
       "      <td>NaN</td>\n",
       "    </tr>\n",
       "    <tr>\n",
       "      <th>1</th>\n",
       "      <td>1</td>\n",
       "      <td>1.0</td>\n",
       "      <td>0.0</td>\n",
       "      <td>0.25</td>\n",
       "      <td>0.0</td>\n",
       "      <td>NaN</td>\n",
       "      <td>NaN</td>\n",
       "    </tr>\n",
       "    <tr>\n",
       "      <th>2</th>\n",
       "      <td>2</td>\n",
       "      <td>2.0</td>\n",
       "      <td>0.0</td>\n",
       "      <td>0.50</td>\n",
       "      <td>0.0</td>\n",
       "      <td>NaN</td>\n",
       "      <td>NaN</td>\n",
       "    </tr>\n",
       "    <tr>\n",
       "      <th>3</th>\n",
       "      <td>3</td>\n",
       "      <td>3.0</td>\n",
       "      <td>0.0</td>\n",
       "      <td>0.75</td>\n",
       "      <td>0.0</td>\n",
       "      <td>NaN</td>\n",
       "      <td>NaN</td>\n",
       "    </tr>\n",
       "    <tr>\n",
       "      <th>4</th>\n",
       "      <td>4</td>\n",
       "      <td>4.0</td>\n",
       "      <td>0.0</td>\n",
       "      <td>1.00</td>\n",
       "      <td>0.0</td>\n",
       "      <td>NaN</td>\n",
       "      <td>NaN</td>\n",
       "    </tr>\n",
       "    <tr>\n",
       "      <th>5</th>\n",
       "      <td>5</td>\n",
       "      <td>0.0</td>\n",
       "      <td>1.0</td>\n",
       "      <td>0.00</td>\n",
       "      <td>1.0</td>\n",
       "      <td>NaN</td>\n",
       "      <td>NaN</td>\n",
       "    </tr>\n",
       "    <tr>\n",
       "      <th>6</th>\n",
       "      <td>6</td>\n",
       "      <td>1.0</td>\n",
       "      <td>1.0</td>\n",
       "      <td>0.25</td>\n",
       "      <td>1.0</td>\n",
       "      <td>NaN</td>\n",
       "      <td>NaN</td>\n",
       "    </tr>\n",
       "    <tr>\n",
       "      <th>7</th>\n",
       "      <td>7</td>\n",
       "      <td>2.0</td>\n",
       "      <td>1.0</td>\n",
       "      <td>0.50</td>\n",
       "      <td>1.0</td>\n",
       "      <td>NaN</td>\n",
       "      <td>NaN</td>\n",
       "    </tr>\n",
       "    <tr>\n",
       "      <th>8</th>\n",
       "      <td>8</td>\n",
       "      <td>3.0</td>\n",
       "      <td>1.0</td>\n",
       "      <td>0.75</td>\n",
       "      <td>1.0</td>\n",
       "      <td>NaN</td>\n",
       "      <td>NaN</td>\n",
       "    </tr>\n",
       "    <tr>\n",
       "      <th>9</th>\n",
       "      <td>9</td>\n",
       "      <td>4.0</td>\n",
       "      <td>1.0</td>\n",
       "      <td>1.00</td>\n",
       "      <td>1.0</td>\n",
       "      <td>NaN</td>\n",
       "      <td>NaN</td>\n",
       "    </tr>\n",
       "  </tbody>\n",
       "</table>\n",
       "</div>"
      ],
      "text/plain": [
       "   run_id  swco_id  swnewgas_id  swco  swnewgas  swco_vl  swnewgas_vl\n",
       "0       0      0.0          0.0  0.00       0.0      NaN          NaN\n",
       "1       1      1.0          0.0  0.25       0.0      NaN          NaN\n",
       "2       2      2.0          0.0  0.50       0.0      NaN          NaN\n",
       "3       3      3.0          0.0  0.75       0.0      NaN          NaN\n",
       "4       4      4.0          0.0  1.00       0.0      NaN          NaN\n",
       "5       5      0.0          1.0  0.00       1.0      NaN          NaN\n",
       "6       6      1.0          1.0  0.25       1.0      NaN          NaN\n",
       "7       7      2.0          1.0  0.50       1.0      NaN          NaN\n",
       "8       8      3.0          1.0  0.75       1.0      NaN          NaN\n",
       "9       9      4.0          1.0  1.00       1.0      NaN          NaN"
      ]
     },
     "execution_count": 21,
     "metadata": {},
     "output_type": "execute_result"
    }
   ],
   "source": [
    "ml.df_def_run"
   ]
  },
  {
   "cell_type": "raw",
   "metadata": {},
   "source": [
    "This table can be filtered to reduce the number of model. For example, if we are primarily interested in the default case including new gas power plants, we could selectively reduce the resolution of the |CO2| price variation:"
   ]
  },
  {
   "cell_type": "code",
   "execution_count": 22,
   "metadata": {},
   "outputs": [
    {
     "data": {
      "text/html": [
       "<div>\n",
       "<style scoped>\n",
       "    .dataframe tbody tr th:only-of-type {\n",
       "        vertical-align: middle;\n",
       "    }\n",
       "\n",
       "    .dataframe tbody tr th {\n",
       "        vertical-align: top;\n",
       "    }\n",
       "\n",
       "    .dataframe thead th {\n",
       "        text-align: right;\n",
       "    }\n",
       "</style>\n",
       "<table border=\"1\" class=\"dataframe\">\n",
       "  <thead>\n",
       "    <tr style=\"text-align: right;\">\n",
       "      <th></th>\n",
       "      <th>run_id</th>\n",
       "      <th>swco_id</th>\n",
       "      <th>swnewgas_id</th>\n",
       "      <th>swco</th>\n",
       "      <th>swnewgas</th>\n",
       "      <th>swco_vl</th>\n",
       "      <th>swnewgas_vl</th>\n",
       "    </tr>\n",
       "  </thead>\n",
       "  <tbody>\n",
       "    <tr>\n",
       "      <th>0</th>\n",
       "      <td>0</td>\n",
       "      <td>0.0</td>\n",
       "      <td>0.0</td>\n",
       "      <td>0.00</td>\n",
       "      <td>0.0</td>\n",
       "      <td>NaN</td>\n",
       "      <td>NaN</td>\n",
       "    </tr>\n",
       "    <tr>\n",
       "      <th>1</th>\n",
       "      <td>1</td>\n",
       "      <td>1.0</td>\n",
       "      <td>0.0</td>\n",
       "      <td>0.25</td>\n",
       "      <td>0.0</td>\n",
       "      <td>NaN</td>\n",
       "      <td>NaN</td>\n",
       "    </tr>\n",
       "    <tr>\n",
       "      <th>2</th>\n",
       "      <td>2</td>\n",
       "      <td>2.0</td>\n",
       "      <td>0.0</td>\n",
       "      <td>0.50</td>\n",
       "      <td>0.0</td>\n",
       "      <td>NaN</td>\n",
       "      <td>NaN</td>\n",
       "    </tr>\n",
       "    <tr>\n",
       "      <th>3</th>\n",
       "      <td>3</td>\n",
       "      <td>3.0</td>\n",
       "      <td>0.0</td>\n",
       "      <td>0.75</td>\n",
       "      <td>0.0</td>\n",
       "      <td>NaN</td>\n",
       "      <td>NaN</td>\n",
       "    </tr>\n",
       "    <tr>\n",
       "      <th>4</th>\n",
       "      <td>4</td>\n",
       "      <td>4.0</td>\n",
       "      <td>0.0</td>\n",
       "      <td>1.00</td>\n",
       "      <td>0.0</td>\n",
       "      <td>NaN</td>\n",
       "      <td>NaN</td>\n",
       "    </tr>\n",
       "    <tr>\n",
       "      <th>5</th>\n",
       "      <td>5</td>\n",
       "      <td>0.0</td>\n",
       "      <td>1.0</td>\n",
       "      <td>0.00</td>\n",
       "      <td>1.0</td>\n",
       "      <td>NaN</td>\n",
       "      <td>NaN</td>\n",
       "    </tr>\n",
       "    <tr>\n",
       "      <th>6</th>\n",
       "      <td>6</td>\n",
       "      <td>2.0</td>\n",
       "      <td>1.0</td>\n",
       "      <td>0.50</td>\n",
       "      <td>1.0</td>\n",
       "      <td>NaN</td>\n",
       "      <td>NaN</td>\n",
       "    </tr>\n",
       "    <tr>\n",
       "      <th>7</th>\n",
       "      <td>7</td>\n",
       "      <td>4.0</td>\n",
       "      <td>1.0</td>\n",
       "      <td>1.00</td>\n",
       "      <td>1.0</td>\n",
       "      <td>NaN</td>\n",
       "      <td>NaN</td>\n",
       "    </tr>\n",
       "  </tbody>\n",
       "</table>\n",
       "</div>"
      ],
      "text/plain": [
       "   run_id  swco_id  swnewgas_id  swco  swnewgas  swco_vl  swnewgas_vl\n",
       "0       0      0.0          0.0  0.00       0.0      NaN          NaN\n",
       "1       1      1.0          0.0  0.25       0.0      NaN          NaN\n",
       "2       2      2.0          0.0  0.50       0.0      NaN          NaN\n",
       "3       3      3.0          0.0  0.75       0.0      NaN          NaN\n",
       "4       4      4.0          0.0  1.00       0.0      NaN          NaN\n",
       "5       5      0.0          1.0  0.00       1.0      NaN          NaN\n",
       "6       6      2.0          1.0  0.50       1.0      NaN          NaN\n",
       "7       7      4.0          1.0  1.00       1.0      NaN          NaN"
      ]
     },
     "execution_count": 22,
     "metadata": {},
     "output_type": "execute_result"
    }
   ],
   "source": [
    "mask_remove = ((ml.df_def_run.swnewgas_id == {v: k for k, v in dict_swnewgas.items()}['exclude_gas'])\n",
    "               & (ml.df_def_run.swco_id % 2 != 0))\n",
    "ml.df_def_run = ml.df_def_run.loc[~mask_remove]\n",
    "ml.df_def_run"
   ]
  },
  {
   "cell_type": "raw",
   "metadata": {},
   "source": [
    "Autocompletion\n",
    "--------------\n",
    "\n",
    "Grimsel treats demand, curtailment, and transmission as power plants. To avoid the tedious task of defining these components in the input tables in a consistent manner, Grimsel autocompletes them in all relevant tables. This can be thought of as an additional step between the input data and the tables stored by the ModelBase class. For example, the ``df_def_plant`` table contains two additional entries, which where not included in the original input data. ``Node1_DMND_FLEX`` is curtailment, which allows for overproduction ``Node1``."
   ]
  },
  {
   "cell_type": "code",
   "execution_count": 23,
   "metadata": {
    "scrolled": true
   },
   "outputs": [
    {
     "data": {
      "text/html": [
       "<div>\n",
       "<style scoped>\n",
       "    .dataframe tbody tr th:only-of-type {\n",
       "        vertical-align: middle;\n",
       "    }\n",
       "\n",
       "    .dataframe tbody tr th {\n",
       "        vertical-align: top;\n",
       "    }\n",
       "\n",
       "    .dataframe thead th {\n",
       "        text-align: right;\n",
       "    }\n",
       "</style>\n",
       "<table border=\"1\" class=\"dataframe\">\n",
       "  <thead>\n",
       "    <tr style=\"text-align: right;\">\n",
       "      <th></th>\n",
       "      <th>pp</th>\n",
       "      <th>pp_id</th>\n",
       "      <th>pt_id</th>\n",
       "      <th>nd_id</th>\n",
       "      <th>fl_id</th>\n",
       "      <th>set_def_pr</th>\n",
       "      <th>set_def_pp</th>\n",
       "      <th>set_def_lin</th>\n",
       "      <th>set_def_add</th>\n",
       "      <th>set_def_dmd</th>\n",
       "      <th>set_def_curt</th>\n",
       "    </tr>\n",
       "  </thead>\n",
       "  <tbody>\n",
       "    <tr>\n",
       "      <th>0</th>\n",
       "      <td>ND1_GAS_LIN</td>\n",
       "      <td>0</td>\n",
       "      <td>0</td>\n",
       "      <td>0</td>\n",
       "      <td>0</td>\n",
       "      <td>0</td>\n",
       "      <td>1</td>\n",
       "      <td>1</td>\n",
       "      <td>0</td>\n",
       "      <td>0.0</td>\n",
       "      <td>0.0</td>\n",
       "    </tr>\n",
       "    <tr>\n",
       "      <th>1</th>\n",
       "      <td>ND1_GAS_NEW</td>\n",
       "      <td>1</td>\n",
       "      <td>0</td>\n",
       "      <td>0</td>\n",
       "      <td>0</td>\n",
       "      <td>0</td>\n",
       "      <td>1</td>\n",
       "      <td>0</td>\n",
       "      <td>1</td>\n",
       "      <td>0.0</td>\n",
       "      <td>0.0</td>\n",
       "    </tr>\n",
       "    <tr>\n",
       "      <th>2</th>\n",
       "      <td>ND1_SOLAR</td>\n",
       "      <td>2</td>\n",
       "      <td>1</td>\n",
       "      <td>0</td>\n",
       "      <td>2</td>\n",
       "      <td>1</td>\n",
       "      <td>0</td>\n",
       "      <td>0</td>\n",
       "      <td>1</td>\n",
       "      <td>0.0</td>\n",
       "      <td>0.0</td>\n",
       "    </tr>\n",
       "    <tr>\n",
       "      <th>3</th>\n",
       "      <td>ND1_HCO_ELC</td>\n",
       "      <td>3</td>\n",
       "      <td>2</td>\n",
       "      <td>0</td>\n",
       "      <td>1</td>\n",
       "      <td>0</td>\n",
       "      <td>1</td>\n",
       "      <td>0</td>\n",
       "      <td>0</td>\n",
       "      <td>0.0</td>\n",
       "      <td>0.0</td>\n",
       "    </tr>\n",
       "    <tr>\n",
       "      <th>0</th>\n",
       "      <td>Node1_DMND_FLEX</td>\n",
       "      <td>4</td>\n",
       "      <td>4</td>\n",
       "      <td>0</td>\n",
       "      <td>3</td>\n",
       "      <td>0</td>\n",
       "      <td>0</td>\n",
       "      <td>0</td>\n",
       "      <td>0</td>\n",
       "      <td>0.0</td>\n",
       "      <td>1.0</td>\n",
       "    </tr>\n",
       "    <tr>\n",
       "      <th>1</th>\n",
       "      <td>Node1_DMND</td>\n",
       "      <td>5</td>\n",
       "      <td>5</td>\n",
       "      <td>0</td>\n",
       "      <td>4</td>\n",
       "      <td>0</td>\n",
       "      <td>0</td>\n",
       "      <td>0</td>\n",
       "      <td>0</td>\n",
       "      <td>1.0</td>\n",
       "      <td>0.0</td>\n",
       "    </tr>\n",
       "  </tbody>\n",
       "</table>\n",
       "</div>"
      ],
      "text/plain": [
       "                pp  pp_id  pt_id  nd_id  fl_id  set_def_pr  set_def_pp  \\\n",
       "0      ND1_GAS_LIN      0      0      0      0           0           1   \n",
       "1      ND1_GAS_NEW      1      0      0      0           0           1   \n",
       "2        ND1_SOLAR      2      1      0      2           1           0   \n",
       "3      ND1_HCO_ELC      3      2      0      1           0           1   \n",
       "0  Node1_DMND_FLEX      4      4      0      3           0           0   \n",
       "1       Node1_DMND      5      5      0      4           0           0   \n",
       "\n",
       "   set_def_lin  set_def_add  set_def_dmd  set_def_curt  \n",
       "0            1            0          0.0           0.0  \n",
       "1            0            1          0.0           0.0  \n",
       "2            0            1          0.0           0.0  \n",
       "3            0            0          0.0           0.0  \n",
       "0            0            0          0.0           1.0  \n",
       "1            0            0          1.0           0.0  "
      ]
     },
     "execution_count": 23,
     "metadata": {},
     "output_type": "execute_result"
    }
   ],
   "source": [
    "ml.m.df_def_plant"
   ]
  },
  {
   "cell_type": "raw",
   "metadata": {},
   "source": [
    "Defining the model modifications\n",
    "--------------------------------\n",
    "\n",
    "The model is modfiied prior to each run in accordance with the table ``def_run`` described above. The actual modifications are typically implemented in a helper class with one method per parameter change. An example is shown below."
   ]
  },
  {
   "cell_type": "code",
   "execution_count": 52,
   "metadata": {},
   "outputs": [],
   "source": [
    "class ModelLoopModifier():\n",
    "\n",
    "    def __init__(self, ml):\n",
    "        self.ml = ml\n",
    "\n",
    "    def change_swco(self, max_co2_price):\n",
    "\n",
    "        # steps from 0 to 1 (column ``swco`` in the df_def_run)\n",
    "        new_co2_price = self.ml.dct_step['swco'] * max_co2_price\n",
    "\n",
    "        for key in ml.m.price_co2:\n",
    "            self.ml.m.price_co2[key] = new_co2_price\n",
    "\n",
    "        self.ml.dct_vl['swco_vl'] = f'{int(new_co2_price):04d}EUR/tCO2'\n",
    "\n",
    "        \n",
    "    def change_gas(self, dict_swnewgas):\n",
    "\n",
    "        slct_swnewgas = dict_swnewgas[self.ml.dct_step['swnewgas']]\n",
    "\n",
    "        # get the power plant id id of new gas plants\n",
    "        pp_id_gas_new = self.ml.m.mps.dict_pp_id['ND1_GAS_NEW']\n",
    "\n",
    "        if slct_swnewgas == 'exclude_gas':\n",
    "            # fix investment variables at zero\n",
    "            for key in self.ml.m.cap_pwr_new:\n",
    "                if key[0] == pp_id_gas_new:  # the variable is indexed (pp_id, ca_id)\n",
    "                    self.ml.m.cap_pwr_new[key].value = 0\n",
    "                    self.ml.m.cap_pwr_new[key].fix()\n",
    "\n",
    "        self.ml.dct_vl['swnewgas_vl'] = slct_swnewgas"
   ]
  },
  {
   "cell_type": "raw",
   "metadata": {},
   "source": [
    "The structure of these methods is always similar:\n",
    "\n",
    "* The current run_id steps are retrieved: For any time step, the ``ModelLoop.dct_step`` attribute contains the value of the `def_run` table's step columns (`swco`, `swnewgas`).\n",
    "\n",
    "  .. code-block:: python\n",
    "     \n",
    "     >>> ml.select_run(2)\n",
    "     >>> ml.dct_step\n",
    "     {'swco': 0.5, 'swnewgas': 0.0}\n",
    "\n",
    "  In the |CO2| price example, this is the scaling factor by which the maximum |CO2| price is multiplied. In the gas plant example, this is the key for the name dictionary defined above: ``dict_swnewgas[self.ml.dct_step['swnewgas']]``\n",
    "* The model components are modified. In the |CO2| price example, the new values are applied to the corresponding parameter. Note that these parameters are Pyomo objects (since the ModelBase class subclasses the Pyomo.ConcreteModel). Possible ways to modify these objects are described in the Pyomo documentation. In the gas plant example, the ``cap_pwr_new`` variable is set to zero and fixed. In this way any investment in gas plants is inhibited.\n",
    "* The entries of the `ModelLoop.dct_vl` dictionary are defined. This step is important. This dictionary is used to fill the ``NaN`` columns ``swco_vl`` and ``swnewgas_vl`` in the def_run table above. They are the names by which the model runs are identified in the analysis."
   ]
  },
  {
   "cell_type": "raw",
   "metadata": {},
   "source": [
    "More advanced parameter modifications might make use of past model runs, e.g. to keep production profiles fixed at a default value. For this purpose, the model results can be accessed as described below."
   ]
  },
  {
   "cell_type": "raw",
   "metadata": {},
   "source": [
    "Defining a model run function\n",
    "-----------------------------\n",
    "\n",
    "Finally, a function performing a single model run is defined. This function takes the ``run_id`` as an input and \n",
    "\n",
    "* sets the internal ModelLoop run_id\n",
    "* resets parameters and variables (if applicable)\n",
    "* calls the ``ModelLoopModifier`` methods\n",
    "* calls the ``ModelLoop.perform_model_run`` method"
   ]
  },
  {
   "cell_type": "code",
   "execution_count": 58,
   "metadata": {},
   "outputs": [],
   "source": [
    "# generate a ModelLoopModifier instance\n",
    "mlm = ModelLoopModifier(ml)\n",
    "\n",
    "def run_model(run_id):\n",
    "\n",
    "    # advance the model loop\n",
    "    ml.select_run(run_id)\n",
    "\n",
    "    # reset all model variables and parameters so we start from the\n",
    "    # same conditions on every loop\n",
    "    ml.m.reset_all_parameters()\n",
    "    ml.m.unfix_all_vars()\n",
    "\n",
    "    # use the ModelLoopModifiers to change the model parameters and variables\n",
    "    mlm.change_swco(max_co2_price=200)\n",
    "    mlm.change_gas(dict_swnewgas)\n",
    "\n",
    "    ############### RUN MODEL ###############\n",
    "    ml.perform_model_run()"
   ]
  },
  {
   "cell_type": "raw",
   "metadata": {},
   "source": [
    "Perform all model runs\n",
    "----------------------\n",
    "\n",
    "While the ``run_model`` function can be called for single run ids, its purpose is to be passed to the :func:`grimsel.run_parallel`` or :func:`grimsel.run_sequential`` function. This loops "
   ]
  },
  {
   "cell_type": "code",
   "execution_count": 62,
   "metadata": {},
   "outputs": [
    {
     "name": "stdout",
     "output_type": "stream",
     "text": [
      "Solver script file=/tmp/tmphcd1ykej.cplex.script\n",
      "Solver script file=/tmp/tmplt0h4uzr.cplex.script\n",
      "Solver script file=/tmp/tmpyjn9vmux.cplex.script\n",
      "Solver script file=/tmp/tmp3nyr47uo.cplex.script\n",
      "Solver log file: '/tmp/tmpwrxd9xmv.cplex.log'\n",
      "Solver log file: '/tmp/tmp_ndycne5.cplex.log'\n",
      "Solver log file: '/tmp/tmpeti0ofif.cplex.log'\n",
      "Solver log file: '/tmp/tmp_nqdr5v1.cplex.log'\n",
      "Solver script file=/tmp/tmp1ju__ibs.cplex.script\n",
      "Solver solution file: '/tmp/tmpk1dur59q.cplex.sol'\n",
      "Solver solution file: '/tmp/tmp4iwh4_rx.cplex.sol'\n",
      "Solver solution file: '/tmp/tmp8xsu7vd4.cplex.sol'\n",
      "Solver log file: '/tmp/tmp0rmcug2k.cplex.log'\n",
      "Solver solution file: '/tmp/tmpzili5a4q.cplex.sol'\n",
      "Solver solution file: '/tmp/tmpy0h91d2q.cplex.sol'\n",
      "Solver script file=/tmp/tmptolmq9pl.cplex.script\n",
      "Solver problem files: ('/tmp/tmpkjz0o0fh.pyomo.lp',)\n",
      "Solver problem files: ('/tmp/tmpbry7jorl.pyomo.lp',)\n",
      "Solver problem files: ('/tmp/tmptc6kcgqe.pyomo.lp',)\n",
      "Solver problem files: ('/tmp/tmprko9u04m.pyomo.lp',)\n",
      "Solver script file=/tmp/tmpyaq61fx1.cplex.script\n",
      "Solver log file: '/tmp/tmpxo0tg2ul.cplex.log'\n",
      "Solver solution file: '/tmp/tmpaunft7wo.cplex.sol'\n",
      "Solver problem files: ('/tmp/tmpm6fx6wav.pyomo.lp',)\n",
      "Solver log file: '/tmp/tmp1caa3m41.cplex.log'\n",
      "Solver problem files: ('/tmp/tmpf8ke8lg1.pyomo.lp',)\n",
      "Solver solution file: '/tmp/tmpoblonf22.cplex.sol'\n",
      "Solver problem files: ('/tmp/tmpdroipib7.pyomo.lp',)\n",
      "Solver script file=/tmp/tmpm5qdoeuc.cplex.script\n",
      "Solver log file: '/tmp/tmpg8g7hzw9.cplex.log'\n",
      "Solver solution file: '/tmp/tmpzlzwsptn.cplex.sol'\n",
      "Solver problem files: ('/tmp/tmpv0je2h0d.pyomo.lp',)\n"
     ]
    }
   ],
   "source": [
    "from grimsel.auxiliary.multiproc import run_parallel, run_sequential\n",
    "from glob import glob\n",
    "\n",
    "run_parallel(ml, func=run_model, nproc=10, adjust_logger_levels=True)\n"
   ]
  }
 ],
 "metadata": {
  "kernelspec": {
   "display_name": "Python 3",
   "language": "python",
   "name": "python3"
  },
  "language_info": {
   "codemirror_mode": {
    "name": "ipython",
    "version": 3
   },
   "file_extension": ".py",
   "mimetype": "text/x-python",
   "name": "python",
   "nbconvert_exporter": "python",
   "pygments_lexer": "ipython3",
   "version": "3.6.8"
  }
 },
 "nbformat": 4,
 "nbformat_minor": 2
}
