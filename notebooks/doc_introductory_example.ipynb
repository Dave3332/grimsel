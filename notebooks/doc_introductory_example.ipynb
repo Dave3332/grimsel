{
 "cells": [
  {
   "cell_type": "raw",
   "metadata": {},
   "source": [
    "======================\n",
    "Introductory example\n",
    "======================\n",
    "\n",
    "This example provides a minimal example of the modeling process with Grimsel, including the definition of the input tables."
   ]
  },
  {
   "cell_type": "code",
   "execution_count": 3,
   "metadata": {
    "scrolled": true
   },
   "outputs": [
    {
     "name": "stderr",
     "output_type": "stream",
     "text": [
      "/mnt/data/miniconda/envs/grimsel/lib/python3.6/site-packages/psycopg2/__init__.py:144: UserWarning: The psycopg2 wheel package will be renamed from release 2.8; in order to keep installing from binary please use \"pip install psycopg2-binary\" instead. For details see: <http://initd.org/psycopg/docs/install.html#binary-install-from-pypi>.\n",
      "  \"\"\")\n",
      "> 17:35:06 - WARNING - grimsel_config - Could not import BASE_DIR path.\n",
      "> 17:35:06 - ERROR - grimsel_config - \n",
      "Please set configuration parameters in\n",
      "grimsel/config_local.py, e.g.\n",
      "\n",
      "import os\n",
      "FN_XLSX = os.path.abspath('../DATA/input.xlsx')\n",
      "DATABASE = 'database_name'\n",
      "SCHEMA = 'model_input_schema_name'\n",
      "\n",
      "PSQL_USER = 'user'\n",
      "PSQL_PASSWORD = 'password'\n",
      "PSQL_PORT = 5432\n",
      "PSQL_HOST = 'localhost'\n",
      "\n"
     ]
    },
    {
     "name": "stdout",
     "output_type": "stream",
     "text": [
      "No module named 'config_local'\n",
      "Using default csv path /mnt/data/Dropbox/GRIMSEL_SOURCE/grimsel/grimsel/input_data\n",
      "No module named 'config_local'\n",
      "No module named 'config_local'\n"
     ]
    }
   ],
   "source": [
    "from grimsel.core.io import IO\n",
    "import numpy as np\n",
    "import pandas as pd\n",
    "import grimsel.core.model_loop as model_loop\n",
    "from grimsel.core.model_base import ModelBase as MB\n",
    "from grimsel import logger\n",
    "logger.setLevel(0)"
   ]
  },
  {
   "cell_type": "raw",
   "metadata": {},
   "source": [
    "Definition of the input data\n",
    "=============================\n",
    "\n",
    "The ``def_node`` table\n",
    "-------------------------\n",
    "\n",
    "The ``def_node`` table contains the mapping between *nd_id*s and node names *nd* as well as all parameters which are indexed by the nodes only. In this simple example we define a single node ``Node1`` with a certain |CO2| price ``price_co2`` (EUR/t):"
   ]
  },
  {
   "cell_type": "code",
   "execution_count": 4,
   "metadata": {},
   "outputs": [
    {
     "data": {
      "text/html": [
       "<div>\n",
       "<style scoped>\n",
       "    .dataframe tbody tr th:only-of-type {\n",
       "        vertical-align: middle;\n",
       "    }\n",
       "\n",
       "    .dataframe tbody tr th {\n",
       "        vertical-align: top;\n",
       "    }\n",
       "\n",
       "    .dataframe thead th {\n",
       "        text-align: right;\n",
       "    }\n",
       "</style>\n",
       "<table border=\"1\" class=\"dataframe\">\n",
       "  <thead>\n",
       "    <tr style=\"text-align: right;\">\n",
       "      <th></th>\n",
       "      <th>nd</th>\n",
       "      <th>nd_id</th>\n",
       "      <th>price_co2</th>\n",
       "      <th>nd_weight</th>\n",
       "    </tr>\n",
       "  </thead>\n",
       "  <tbody>\n",
       "    <tr>\n",
       "      <th>0</th>\n",
       "      <td>Node1</td>\n",
       "      <td>0</td>\n",
       "      <td>80</td>\n",
       "      <td>1</td>\n",
       "    </tr>\n",
       "  </tbody>\n",
       "</table>\n",
       "</div>"
      ],
      "text/plain": [
       "      nd  nd_id  price_co2  nd_weight\n",
       "0  Node1      0         80          1"
      ]
     },
     "metadata": {},
     "output_type": "display_data"
    }
   ],
   "source": [
    "df_def_node = pd.DataFrame({'nd': ['Node1'], 'nd_id':[0], 'price_co2': [80], 'nd_weight': [1]})\n",
    "dict_nd = df_def_node.set_index('nd').nd_id.to_dict()\n",
    "display(df_def_node)"
   ]
  },
  {
   "cell_type": "raw",
   "metadata": {},
   "source": [
    ".. important::\n",
    "   The indices *nd_id* are best generated after the finalization of the table. The same holds for all other basic indices (power plants *pp_id*, fuels *fl_id* etc). It is good practice to never assume numerical indices as fixed, but to use translated names instead. The :class:`grimsel.core.auxiliary.maps.Maps` class provides convenience methods and attributes for this. For example, instead of referring to ``nd_id = 0`` we would always use ``nd_id = mps.dict_nd['Node1']`` instead (with ``mps`` an instance of the ``Maps`` class)."
   ]
  },
  {
   "cell_type": "raw",
   "metadata": {},
   "source": [
    "The ``def_fuel`` table\n",
    "--------------------------\n",
    "\n",
    "Every power plant in the broadest sense has fuel. This includes fuel-less renewable generators (wind, solar), demand-like model components, and transmission between nodes. The same holds for the ``def_plant`` and ``def_pp_type`` tables (see below).\n",
    "\n",
    ".. note::\n",
    "   Abstract fuels which follow directly from the model structure (demand, curtailment, transmission) don't have to be defined in the input table. They are automatically appended by the :module:`grimsel.core.autocomplete` module."
   ]
  },
  {
   "cell_type": "code",
   "execution_count": 5,
   "metadata": {},
   "outputs": [
    {
     "data": {
      "text/html": [
       "<div>\n",
       "<style scoped>\n",
       "    .dataframe tbody tr th:only-of-type {\n",
       "        vertical-align: middle;\n",
       "    }\n",
       "\n",
       "    .dataframe tbody tr th {\n",
       "        vertical-align: top;\n",
       "    }\n",
       "\n",
       "    .dataframe thead th {\n",
       "        text-align: right;\n",
       "    }\n",
       "</style>\n",
       "<table border=\"1\" class=\"dataframe\">\n",
       "  <thead>\n",
       "    <tr style=\"text-align: right;\">\n",
       "      <th></th>\n",
       "      <th>fl_id</th>\n",
       "      <th>fl</th>\n",
       "      <th>co2_int</th>\n",
       "    </tr>\n",
       "  </thead>\n",
       "  <tbody>\n",
       "    <tr>\n",
       "      <th>0</th>\n",
       "      <td>0</td>\n",
       "      <td>natural_gas</td>\n",
       "      <td>0.20196</td>\n",
       "    </tr>\n",
       "    <tr>\n",
       "      <th>1</th>\n",
       "      <td>1</td>\n",
       "      <td>hard_coal</td>\n",
       "      <td>0.34596</td>\n",
       "    </tr>\n",
       "    <tr>\n",
       "      <th>2</th>\n",
       "      <td>2</td>\n",
       "      <td>wind</td>\n",
       "      <td>0.00000</td>\n",
       "    </tr>\n",
       "  </tbody>\n",
       "</table>\n",
       "</div>"
      ],
      "text/plain": [
       "   fl_id           fl  co2_int\n",
       "0      0  natural_gas  0.20196\n",
       "1      1    hard_coal  0.34596\n",
       "2      2         wind  0.00000"
      ]
     },
     "metadata": {},
     "output_type": "display_data"
    }
   ],
   "source": [
    "df_def_fuel = pd.DataFrame({'fl_id': range(3),\n",
    "                            'fl': ['natural_gas', 'hard_coal', 'wind'], \n",
    "                            'co2_int': [0.20196, 0.34596, 0]})\n",
    "dict_fl = df_def_fuel.set_index('fl').fl_id.to_dict()\n",
    "display(df_def_fuel)"
   ]
  },
  {
   "cell_type": "raw",
   "metadata": {},
   "source": [
    "The ``def_encar`` table\n",
    "--------------------------\n",
    "\n",
    "Definition of produced energy carriers. \n",
    "\n",
    ".. note::\n",
    "   In systems where a produced energy carrier can be consumed by other plants (e.g. electricity to produce heat), a column *fl_id* is required, which maps the output (e.g. electricity) carrier to the input (e.g. electricity) fuel."
   ]
  },
  {
   "cell_type": "code",
   "execution_count": 6,
   "metadata": {},
   "outputs": [
    {
     "data": {
      "text/html": [
       "<div>\n",
       "<style scoped>\n",
       "    .dataframe tbody tr th:only-of-type {\n",
       "        vertical-align: middle;\n",
       "    }\n",
       "\n",
       "    .dataframe tbody tr th {\n",
       "        vertical-align: top;\n",
       "    }\n",
       "\n",
       "    .dataframe thead th {\n",
       "        text-align: right;\n",
       "    }\n",
       "</style>\n",
       "<table border=\"1\" class=\"dataframe\">\n",
       "  <thead>\n",
       "    <tr style=\"text-align: right;\">\n",
       "      <th></th>\n",
       "      <th>ca_id</th>\n",
       "      <th>ca</th>\n",
       "    </tr>\n",
       "  </thead>\n",
       "  <tbody>\n",
       "    <tr>\n",
       "      <th>0</th>\n",
       "      <td>0</td>\n",
       "      <td>EL</td>\n",
       "    </tr>\n",
       "  </tbody>\n",
       "</table>\n",
       "</div>"
      ],
      "text/plain": [
       "   ca_id  ca\n",
       "0      0  EL"
      ]
     },
     "metadata": {},
     "output_type": "display_data"
    }
   ],
   "source": [
    "df_def_encar = pd.DataFrame({'ca_id': [0],\n",
    "                             'ca': ['EL']})\n",
    "dict_ca = df_def_encar.set_index('ca').ca_id.to_dict()\n",
    "display(df_def_encar)"
   ]
  },
  {
   "cell_type": "raw",
   "metadata": {},
   "source": [
    "The ``def_pp_type`` table\n",
    "---------------------------\n",
    "* mainly used for analysis"
   ]
  },
  {
   "cell_type": "code",
   "execution_count": 7,
   "metadata": {},
   "outputs": [
    {
     "data": {
      "text/html": [
       "<div>\n",
       "<style scoped>\n",
       "    .dataframe tbody tr th:only-of-type {\n",
       "        vertical-align: middle;\n",
       "    }\n",
       "\n",
       "    .dataframe tbody tr th {\n",
       "        vertical-align: top;\n",
       "    }\n",
       "\n",
       "    .dataframe thead th {\n",
       "        text-align: right;\n",
       "    }\n",
       "</style>\n",
       "<table border=\"1\" class=\"dataframe\">\n",
       "  <thead>\n",
       "    <tr style=\"text-align: right;\">\n",
       "      <th></th>\n",
       "      <th>pt_id</th>\n",
       "      <th>pt</th>\n",
       "    </tr>\n",
       "  </thead>\n",
       "  <tbody>\n",
       "    <tr>\n",
       "      <th>0</th>\n",
       "      <td>0</td>\n",
       "      <td>GAS_LIN</td>\n",
       "    </tr>\n",
       "    <tr>\n",
       "      <th>1</th>\n",
       "      <td>1</td>\n",
       "      <td>WIND</td>\n",
       "    </tr>\n",
       "    <tr>\n",
       "      <th>2</th>\n",
       "      <td>2</td>\n",
       "      <td>HCO_ELC</td>\n",
       "    </tr>\n",
       "  </tbody>\n",
       "</table>\n",
       "</div>"
      ],
      "text/plain": [
       "   pt_id       pt\n",
       "0      0  GAS_LIN\n",
       "1      1     WIND\n",
       "2      2  HCO_ELC"
      ]
     },
     "metadata": {},
     "output_type": "display_data"
    }
   ],
   "source": [
    "df_def_pp_type = pd.DataFrame({'pt_id': range(3), 'pt': ['GAS_LIN', 'WIND', 'HCO_ELC']})\n",
    "dict_pt = df_def_pp_type.set_index('pt').pt_id.to_dict()\n",
    "display(df_def_pp_type)"
   ]
  },
  {
   "cell_type": "raw",
   "metadata": {},
   "source": [
    "The ``def_plant`` table\n",
    "--------------------------\n"
   ]
  },
  {
   "cell_type": "code",
   "execution_count": 8,
   "metadata": {},
   "outputs": [
    {
     "data": {
      "text/html": [
       "<div>\n",
       "<style scoped>\n",
       "    .dataframe tbody tr th:only-of-type {\n",
       "        vertical-align: middle;\n",
       "    }\n",
       "\n",
       "    .dataframe tbody tr th {\n",
       "        vertical-align: top;\n",
       "    }\n",
       "\n",
       "    .dataframe thead th {\n",
       "        text-align: right;\n",
       "    }\n",
       "</style>\n",
       "<table border=\"1\" class=\"dataframe\">\n",
       "  <thead>\n",
       "    <tr style=\"text-align: right;\">\n",
       "      <th></th>\n",
       "      <th>pp_id</th>\n",
       "      <th>pp</th>\n",
       "      <th>pt_id</th>\n",
       "      <th>nd_id</th>\n",
       "      <th>fl_id</th>\n",
       "      <th>set_def_pr</th>\n",
       "      <th>set_def_pp</th>\n",
       "      <th>set_def_lin</th>\n",
       "      <th>set_def_add</th>\n",
       "    </tr>\n",
       "  </thead>\n",
       "  <tbody>\n",
       "    <tr>\n",
       "      <th>0</th>\n",
       "      <td>0</td>\n",
       "      <td>ND1_GAS_LIN</td>\n",
       "      <td>0</td>\n",
       "      <td>0</td>\n",
       "      <td>0</td>\n",
       "      <td>0</td>\n",
       "      <td>1</td>\n",
       "      <td>1</td>\n",
       "      <td>0</td>\n",
       "    </tr>\n",
       "    <tr>\n",
       "      <th>1</th>\n",
       "      <td>1</td>\n",
       "      <td>ND1_GAS_NEW</td>\n",
       "      <td>0</td>\n",
       "      <td>0</td>\n",
       "      <td>0</td>\n",
       "      <td>0</td>\n",
       "      <td>1</td>\n",
       "      <td>0</td>\n",
       "      <td>1</td>\n",
       "    </tr>\n",
       "    <tr>\n",
       "      <th>2</th>\n",
       "      <td>2</td>\n",
       "      <td>ND1_WIND</td>\n",
       "      <td>1</td>\n",
       "      <td>0</td>\n",
       "      <td>2</td>\n",
       "      <td>1</td>\n",
       "      <td>0</td>\n",
       "      <td>0</td>\n",
       "      <td>1</td>\n",
       "    </tr>\n",
       "    <tr>\n",
       "      <th>3</th>\n",
       "      <td>3</td>\n",
       "      <td>ND1_HCO_ELC</td>\n",
       "      <td>2</td>\n",
       "      <td>0</td>\n",
       "      <td>1</td>\n",
       "      <td>0</td>\n",
       "      <td>1</td>\n",
       "      <td>0</td>\n",
       "      <td>0</td>\n",
       "    </tr>\n",
       "  </tbody>\n",
       "</table>\n",
       "</div>"
      ],
      "text/plain": [
       "   pp_id           pp  pt_id  nd_id  fl_id  set_def_pr  set_def_pp  \\\n",
       "0      0  ND1_GAS_LIN      0      0      0           0           1   \n",
       "1      1  ND1_GAS_NEW      0      0      0           0           1   \n",
       "2      2     ND1_WIND      1      0      2           1           0   \n",
       "3      3  ND1_HCO_ELC      2      0      1           0           1   \n",
       "\n",
       "   set_def_lin  set_def_add  \n",
       "0            1            0  \n",
       "1            0            1  \n",
       "2            0            1  \n",
       "3            0            0  "
      ]
     },
     "metadata": {},
     "output_type": "display_data"
    }
   ],
   "source": [
    "df_def_plant = pd.DataFrame({'pp': ['ND1_GAS_LIN', 'ND1_GAS_NEW', 'ND1_WIND', 'ND1_HCO_ELC'],\n",
    "                             'pt_id': ['GAS_LIN', 'GAS_LIN', 'WIND', 'HCO_ELC'],\n",
    "                             'nd_id': ['Node1'] * 4,\n",
    "                             'fl_id': ['natural_gas', 'natural_gas', 'wind', 'hard_coal'],\n",
    "                             'set_def_pr': [0, 0, 1, 0],\n",
    "                             'set_def_pp': [1, 1, 0, 1],\n",
    "                             'set_def_lin': [1, 0, 0, 0],\n",
    "                             'set_def_add': [0, 1, 1, 0],\n",
    "                            })\n",
    "df_def_plant.index.name = 'pp_id'\n",
    "df_def_plant = df_def_plant.reset_index()\n",
    "\n",
    "# translate columns to id using the previously defined def tables\n",
    "df_def_plant = df_def_plant.assign(pt_id=df_def_plant.pt_id.replace(dict_pt),\n",
    "                                   nd_id=df_def_plant.nd_id.replace(dict_nd),\n",
    "                                   fl_id=df_def_plant.fl_id.replace(dict_fl))\n",
    "dict_pp = df_def_plant.set_index('pp').pp_id.to_dict()\n",
    "\n",
    "display(df_def_plant)"
   ]
  },
  {
   "cell_type": "raw",
   "metadata": {},
   "source": [
    "The ``def_profile`` table\n",
    "--------------------------\n",
    "\n",
    "\n"
   ]
  },
  {
   "cell_type": "code",
   "execution_count": 133,
   "metadata": {},
   "outputs": [
    {
     "data": {
      "text/html": [
       "<div>\n",
       "<style scoped>\n",
       "    .dataframe tbody tr th:only-of-type {\n",
       "        vertical-align: middle;\n",
       "    }\n",
       "\n",
       "    .dataframe tbody tr th {\n",
       "        vertical-align: top;\n",
       "    }\n",
       "\n",
       "    .dataframe thead th {\n",
       "        text-align: right;\n",
       "    }\n",
       "</style>\n",
       "<table border=\"1\" class=\"dataframe\">\n",
       "  <thead>\n",
       "    <tr style=\"text-align: right;\">\n",
       "      <th></th>\n",
       "      <th>pf_id</th>\n",
       "      <th>pf</th>\n",
       "    </tr>\n",
       "  </thead>\n",
       "  <tbody>\n",
       "    <tr>\n",
       "      <th>0</th>\n",
       "      <td>0</td>\n",
       "      <td>SUPPLY_WIND</td>\n",
       "    </tr>\n",
       "    <tr>\n",
       "      <th>1</th>\n",
       "      <td>1</td>\n",
       "      <td>DMND_NODE1</td>\n",
       "    </tr>\n",
       "  </tbody>\n",
       "</table>\n",
       "</div>"
      ],
      "text/plain": [
       "   pf_id           pf\n",
       "0      0  SUPPLY_WIND\n",
       "1      1   DMND_NODE1"
      ]
     },
     "execution_count": 133,
     "metadata": {},
     "output_type": "execute_result"
    }
   ],
   "source": [
    "df_def_profile = pd.DataFrame({'pf_id': range(2),\n",
    "                               'pf': ['SUPPLY_WIND', 'DMND_NODE1']})\n",
    "dict_pf = df_def_profile.set_index('pf').pf_id.to_dict()\n",
    "df_def_profile\n"
   ]
  },
  {
   "cell_type": "raw",
   "metadata": {},
   "source": [
    "The ``plant_encar`` table\n",
    "--------------------------\n"
   ]
  },
  {
   "cell_type": "code",
   "execution_count": 134,
   "metadata": {},
   "outputs": [
    {
     "data": {
      "text/html": [
       "<div>\n",
       "<style scoped>\n",
       "    .dataframe tbody tr th:only-of-type {\n",
       "        vertical-align: middle;\n",
       "    }\n",
       "\n",
       "    .dataframe tbody tr th {\n",
       "        vertical-align: top;\n",
       "    }\n",
       "\n",
       "    .dataframe thead th {\n",
       "        text-align: right;\n",
       "    }\n",
       "</style>\n",
       "<table border=\"1\" class=\"dataframe\">\n",
       "  <thead>\n",
       "    <tr style=\"text-align: right;\">\n",
       "      <th></th>\n",
       "      <th>pp_id</th>\n",
       "      <th>ca_id</th>\n",
       "      <th>supply_pf_id</th>\n",
       "      <th>pp_eff</th>\n",
       "      <th>factor_lin_0</th>\n",
       "      <th>factor_lin_1</th>\n",
       "      <th>cap_pwr_leg</th>\n",
       "      <th>fc_cp_ann</th>\n",
       "    </tr>\n",
       "  </thead>\n",
       "  <tbody>\n",
       "    <tr>\n",
       "      <th>0</th>\n",
       "      <td>0</td>\n",
       "      <td>0</td>\n",
       "      <td>None</td>\n",
       "      <td>NaN</td>\n",
       "      <td>2.5</td>\n",
       "      <td>0.000208</td>\n",
       "      <td>4000.0</td>\n",
       "      <td>NaN</td>\n",
       "    </tr>\n",
       "    <tr>\n",
       "      <th>1</th>\n",
       "      <td>1</td>\n",
       "      <td>0</td>\n",
       "      <td>None</td>\n",
       "      <td>0.6</td>\n",
       "      <td>NaN</td>\n",
       "      <td>NaN</td>\n",
       "      <td>0.0</td>\n",
       "      <td>69.747646</td>\n",
       "    </tr>\n",
       "    <tr>\n",
       "      <th>2</th>\n",
       "      <td>2</td>\n",
       "      <td>0</td>\n",
       "      <td>0</td>\n",
       "      <td>NaN</td>\n",
       "      <td>NaN</td>\n",
       "      <td>NaN</td>\n",
       "      <td>0.0</td>\n",
       "      <td>130.776835</td>\n",
       "    </tr>\n",
       "    <tr>\n",
       "      <th>3</th>\n",
       "      <td>3</td>\n",
       "      <td>0</td>\n",
       "      <td>None</td>\n",
       "      <td>0.4</td>\n",
       "      <td>NaN</td>\n",
       "      <td>NaN</td>\n",
       "      <td>5000.0</td>\n",
       "      <td>NaN</td>\n",
       "    </tr>\n",
       "  </tbody>\n",
       "</table>\n",
       "</div>"
      ],
      "text/plain": [
       "   pp_id  ca_id supply_pf_id  pp_eff  factor_lin_0  factor_lin_1  cap_pwr_leg  \\\n",
       "0      0      0         None     NaN           2.5      0.000208       4000.0   \n",
       "1      1      0         None     0.6           NaN           NaN          0.0   \n",
       "2      2      0            0     NaN           NaN           NaN          0.0   \n",
       "3      3      0         None     0.4           NaN           NaN       5000.0   \n",
       "\n",
       "    fc_cp_ann  \n",
       "0         NaN  \n",
       "1   69.747646  \n",
       "2  130.776835  \n",
       "3         NaN  "
      ]
     },
     "execution_count": 134,
     "metadata": {},
     "output_type": "execute_result"
    }
   ],
   "source": [
    "eff_gas_min = 0.4\n",
    "eff_gas_max = 0.6\n",
    "cap_gas = 4000.\n",
    "f0_gas = 1/eff_gas_min\n",
    "f1_gas = 1/cap_gas * (f0_gas - 1/eff_gas_max)\n",
    "\n",
    "\n",
    "dr, lt = 0.06, 20 # assumed discount rate 6% and life time\n",
    "fact_ann = ((1+dr)**lt * dr) / ((1+dr)**lt - 1)\n",
    "\n",
    "fc_cp_gas = 800\n",
    "fc_cp_gas_ann = fact_ann * fc_cp_gas\n",
    "\n",
    "fc_cp_wind = 1500 # assumed capital cost wind power\n",
    "fc_cp_wind_ann = fact_ann * fc_cp_wind\n",
    "\n",
    "df_plant_encar = pd.DataFrame({'pp_id': ['ND1_GAS_LIN', 'ND1_GAS_NEW', 'ND1_WIND', 'ND1_HCO_ELC'],\n",
    "                               'ca_id': ['EL'] * 4,\n",
    "                               'supply_pf_id': [None, None, 'SUPPLY_WIND', None],\n",
    "                               'pp_eff': [None, eff_gas_max, None, 0.4],\n",
    "                               'factor_lin_0': [f0_gas, None, None, None],\n",
    "                               'factor_lin_1': [f1_gas, None, None, None],\n",
    "                               'cap_pwr_leg': [cap_gas, 0, 0, 5000],\n",
    "                               'fc_cp_ann': [None, fc_cp_gas_ann, fc_cp_wind_ann, None],\n",
    "                              })\n",
    "\n",
    "df_plant_encar = df_plant_encar.assign(supply_pf_id=df_plant_encar.supply_pf_id.replace(dict_pf),\n",
    "                                       pp_id=df_plant_encar.pp_id.replace(dict_pp),\n",
    "                                       ca_id=df_plant_encar.ca_id.replace(dict_ca))\n",
    "df_plant_encar\n",
    "\n"
   ]
  },
  {
   "cell_type": "raw",
   "metadata": {},
   "source": [
    "The ``node_encar`` table\n",
    "--------------------------\n"
   ]
  },
  {
   "cell_type": "code",
   "execution_count": 135,
   "metadata": {},
   "outputs": [
    {
     "data": {
      "text/html": [
       "<div>\n",
       "<style scoped>\n",
       "    .dataframe tbody tr th:only-of-type {\n",
       "        vertical-align: middle;\n",
       "    }\n",
       "\n",
       "    .dataframe tbody tr th {\n",
       "        vertical-align: top;\n",
       "    }\n",
       "\n",
       "    .dataframe thead th {\n",
       "        text-align: right;\n",
       "    }\n",
       "</style>\n",
       "<table border=\"1\" class=\"dataframe\">\n",
       "  <thead>\n",
       "    <tr style=\"text-align: right;\">\n",
       "      <th></th>\n",
       "      <th>nd_id</th>\n",
       "      <th>ca_id</th>\n",
       "      <th>dmnd_pf_id</th>\n",
       "    </tr>\n",
       "  </thead>\n",
       "  <tbody>\n",
       "    <tr>\n",
       "      <th>0</th>\n",
       "      <td>0</td>\n",
       "      <td>0</td>\n",
       "      <td>1</td>\n",
       "    </tr>\n",
       "  </tbody>\n",
       "</table>\n",
       "</div>"
      ],
      "text/plain": [
       "   nd_id  ca_id  dmnd_pf_id\n",
       "0      0      0           1"
      ]
     },
     "execution_count": 135,
     "metadata": {},
     "output_type": "execute_result"
    }
   ],
   "source": [
    "df_node_encar = pd.DataFrame({'nd_id': ['Node1'], 'ca_id': ['EL'],\n",
    "                              'dmnd_pf_id': ['DMND_NODE1']\n",
    "                              })\n",
    "df_node_encar = df_node_encar.assign(nd_id=df_node_encar.nd_id.replace(dict_nd),\n",
    "                                     ca_id=df_node_encar.ca_id.replace(dict_ca),\n",
    "                                     dmnd_pf_id=df_node_encar.dmnd_pf_id.replace(dict_pf))\n",
    "df_node_encar"
   ]
  },
  {
   "cell_type": "raw",
   "metadata": {},
   "source": [
    "The ``fuel_node_encar`` table\n",
    "--------------------------------\n"
   ]
  },
  {
   "cell_type": "code",
   "execution_count": 136,
   "metadata": {},
   "outputs": [
    {
     "data": {
      "text/html": [
       "<div>\n",
       "<style scoped>\n",
       "    .dataframe tbody tr th:only-of-type {\n",
       "        vertical-align: middle;\n",
       "    }\n",
       "\n",
       "    .dataframe tbody tr th {\n",
       "        vertical-align: top;\n",
       "    }\n",
       "\n",
       "    .dataframe thead th {\n",
       "        text-align: right;\n",
       "    }\n",
       "</style>\n",
       "<table border=\"1\" class=\"dataframe\">\n",
       "  <thead>\n",
       "    <tr style=\"text-align: right;\">\n",
       "      <th></th>\n",
       "      <th>fl_id</th>\n",
       "      <th>nd_id</th>\n",
       "      <th>ca_id</th>\n",
       "      <th>vc_fl</th>\n",
       "    </tr>\n",
       "  </thead>\n",
       "  <tbody>\n",
       "    <tr>\n",
       "      <th>0</th>\n",
       "      <td>0</td>\n",
       "      <td>0</td>\n",
       "      <td>0</td>\n",
       "      <td>40</td>\n",
       "    </tr>\n",
       "    <tr>\n",
       "      <th>1</th>\n",
       "      <td>1</td>\n",
       "      <td>0</td>\n",
       "      <td>0</td>\n",
       "      <td>10</td>\n",
       "    </tr>\n",
       "  </tbody>\n",
       "</table>\n",
       "</div>"
      ],
      "text/plain": [
       "  fl_id  nd_id  ca_id  vc_fl\n",
       "0     0      0      0     40\n",
       "1     1      0      0     10"
      ]
     },
     "execution_count": 136,
     "metadata": {},
     "output_type": "execute_result"
    }
   ],
   "source": [
    "df_fuel_node_encar = pd.DataFrame({'fl_id': ['natural_gas', 'hard_coal'],\n",
    "                               'nd_id': ['Node1'] * 2,\n",
    "                               'ca_id': ['EL'] * 2,\n",
    "                               'vc_fl': [40, 10],\n",
    "                              })\n",
    "df_fuel_node_encar = df_fuel_node_encar.assign(fl_id=df_fuel_node_encar.fl_id.replace(dict_fl),\n",
    "                                       nd_id=df_fuel_node_encar.nd_id.replace(dict_nd),\n",
    "                                       ca_id=df_fuel_node_encar.ca_id.replace(dict_ca))\n",
    "df_fuel_node_encar"
   ]
  },
  {
   "cell_type": "raw",
   "metadata": {},
   "source": [
    "The ``profsupply`` table\n",
    "--------------------------\n"
   ]
  },
  {
   "cell_type": "code",
   "execution_count": 137,
   "metadata": {},
   "outputs": [
    {
     "data": {
      "text/plain": [
       "<matplotlib.axes._subplots.AxesSubplot at 0x7f9a77663a90>"
      ]
     },
     "execution_count": 137,
     "metadata": {},
     "output_type": "execute_result"
    },
    {
     "data": {
      "image/png": "[encoded data removed]",
      "text/plain": [
       "<Figure size 432x288 with 1 Axes>"
      ]
     },
     "metadata": {
      "needs_background": "light"
     },
     "output_type": "display_data"
    }
   ],
   "source": [
    "prf = [0.169, 0.122, 0.176, 0.284]\n",
    "\n",
    "df_profsupply = pd.DataFrame({'supply_pf_id': [dict_pf['SUPPLY_WIND']] * len(prf),\n",
    "                              'hy': range(len(prf)), 'value': prf})\n",
    "\n",
    "df_profsupply.set_index('hy').value.plot.bar()"
   ]
  },
  {
   "cell_type": "raw",
   "metadata": {},
   "source": [
    "The ``profdmnd`` table\n",
    "--------------------------\n"
   ]
  },
  {
   "cell_type": "code",
   "execution_count": 138,
   "metadata": {},
   "outputs": [
    {
     "data": {
      "text/plain": [
       "<matplotlib.axes._subplots.AxesSubplot at 0x7f9a77642cf8>"
      ]
     },
     "execution_count": 138,
     "metadata": {},
     "output_type": "execute_result"
    },
    {
     "data": {
      "image/png": "[encoded data removed]",
      "text/plain": [
       "<Figure size 432x288 with 1 Axes>"
      ]
     },
     "metadata": {
      "needs_background": "light"
     },
     "output_type": "display_data"
    }
   ],
   "source": [
    "prf = [6248.5, 6109.0, 6531.6, 6579.4]\n",
    "\n",
    "df_profdmnd = pd.DataFrame({'dmnd_pf_id': [dict_pf['DMND_NODE1']] * len(prf),\n",
    "                            'hy': range(len(prf)), 'value': prf})\n",
    "\n",
    "df_profdmnd.set_index('hy').value.plot.bar()"
   ]
  },
  {
   "cell_type": "raw",
   "metadata": {},
   "source": [
    "Writing input tables to disk\n",
    "---------------------------------\n"
   ]
  },
  {
   "cell_type": "code",
   "execution_count": 139,
   "metadata": {},
   "outputs": [],
   "source": [
    "for dftb, tbname in [(df_def_node, 'def_node'),\n",
    "                   (df_def_plant, 'def_plant'),\n",
    "                   (df_def_fuel, 'def_fuel'),\n",
    "                   (df_def_encar, 'def_encar'),\n",
    "                   (df_node_encar, 'node_encar'),\n",
    "                   (df_def_pp_type, 'def_pp_type'),\n",
    "                   (df_plant_encar, 'plant_encar'),\n",
    "                   (df_def_profile, 'def_profile'),\n",
    "                   (df_fuel_node_encar, 'fuel_node_encar'),\n",
    "                   (df_profsupply, 'profsupply'),\n",
    "                   (df_profdmnd, 'profdmnd')]:\n",
    "    dftb.to_csv('introductory_example_files/{}.csv'.format(tbname), index=False)\n",
    "    "
   ]
  },
  {
   "cell_type": "code",
   "execution_count": 66,
   "metadata": {},
   "outputs": [
    {
     "name": "stderr",
     "output_type": "stream",
     "text": [
      "> 19:31:49 - ERROR - grimsel.core.io - 'No object named def_run in the file'\n",
      "> 19:31:49 - WARNING - grimsel.core.io - reset_hdf_file: Could not determine max_run_id ... setting to None.\n"
     ]
    },
    {
     "name": "stdout",
     "output_type": "stream",
     "text": [
      "\n",
      "~~~~~~~~~~~~~~~   WARNING:  ~~~~~~~~~~~~~~~~\n",
      "You are about to delete existing file introductory_example_files/output.hdf5.\n",
      "The maximum run_id is None.\n",
      "\n",
      "Hit enter to proceed.\n",
      "\n",
      "/mnt/data/Dropbox/GRIMSEL_SOURCE/grimsel/notebooks/introductory_example_files\n"
     ]
    }
   ],
   "source": [
    "import os\n",
    "\n",
    "mkwargs = {}\n",
    "iokwargs = {'data_path': os.path.abspath('introductory_example_files/'),\n",
    "            'output_target': 'hdf5',\n",
    "            'cl_out': 'introductory_example_files/output.hdf5'}\n",
    "nsteps = [('swco', 3, np.linspace),  # CO2 emission price\n",
    "         ]\n",
    "ml = model_loop.ModelLoop(nsteps=nsteps, mkwargs=mkwargs, iokwargs=iokwargs)\n",
    "print(ml.io.datrd.data_path)"
   ]
  },
  {
   "cell_type": "code",
   "execution_count": 26,
   "metadata": {
    "scrolled": true
   },
   "outputs": [
    {
     "name": "stdout",
     "output_type": "stream",
     "text": [
      "/mnt/data/Dropbox/GRIMSEL_SOURCE/grimsel/notebooks/introductory_example_files\n"
     ]
    },
    {
     "name": "stderr",
     "output_type": "stream",
     "text": [
      "Closing remaining open files:introductory_example_files/output.hdf5...done\n"
     ]
    }
   ],
   "source": [
    "IO._close_all_hdf_connections()\n",
    "ml.init_run_table()\n",
    "ml.df_def_run\n",
    "\n",
    "print(ml.io.datrd.data_path)\n"
   ]
  },
  {
   "cell_type": "code",
   "execution_count": 27,
   "metadata": {},
   "outputs": [],
   "source": [
    "logger.setLevel(1000)\n",
    "ml.io.read_model_data()\n"
   ]
  },
  {
   "cell_type": "code",
   "execution_count": 28,
   "metadata": {},
   "outputs": [],
   "source": [
    "ml.m.init_maps()\n",
    "\n",
    "ml.m.map_to_time_res()\n",
    "\n",
    "\n",
    "# %\n",
    "ml.io.write_runtime_tables()\n",
    "\n",
    "ml.m.get_setlst()\n",
    "ml.m.define_sets()\n",
    "ml.m.add_parameters()\n",
    "ml.m.define_variables()\n",
    "ml.m.add_all_constraints()\n",
    "ml.m.init_solver()\n",
    "ml.io.init_output_tables()\n",
    "ml.select_run(0)\n"
   ]
  },
  {
   "cell_type": "code",
   "execution_count": null,
   "metadata": {},
   "outputs": [],
   "source": []
  }
 ],
 "metadata": {
  "kernelspec": {
   "display_name": "Python 3",
   "language": "python",
   "name": "python3"
  },
  "language_info": {
   "codemirror_mode": {
    "name": "ipython",
    "version": 3
   },
   "file_extension": ".py",
   "mimetype": "text/x-python",
   "name": "python",
   "nbconvert_exporter": "python",
   "pygments_lexer": "ipython3",
   "version": "3.6.8"
  }
 },
 "nbformat": 4,
 "nbformat_minor": 2
}
